{
 "cells": [
  {
   "cell_type": "markdown",
   "id": "05eef025",
   "metadata": {},
   "source": [
    "### Cálculos\n",
    "Existem diversos cálculos e fórmulas por trás da criação de uma ANN\n",
    "\n",
    "__ANN Perceptron__:\\\n",
    "Essa é uma função para criação de um perceptron\n",
    "$$\n",
    "    Node = \\sum_{i=1}^n {x_i \\cdot w_i}\n",
    "$$\n",
    "\n",
    "__Sigmoid__:\\\n",
    "Função de ativação\n",
    "$$\n",
    "    Sigmoid = \\frac{1}{1 + e^{-x}}\n",
    "$$\n",
    "\n",
    "__Weight Error__:\\\n",
    "Cálculo de erro e alteração de pesos\n",
    "$$\n",
    "    t = \\text{taxa de aprendizagem} \\\\\n",
    "    W_{(n)} = W_{(n)} + t[d(n) - Y(n)] \\cdot X(n)\n",
    "$$\n",
    "\n",
    "__MSE__:\\\n",
    "Erro médio quadrático\n",
    "$$\n",
    "    MSE = \\frac{ \\sum{(x_i - y)²} }{ n }\n",
    "$$"
   ]
  },
  {
   "cell_type": "code",
   "execution_count": 1,
   "id": "3dbb42fd",
   "metadata": {},
   "outputs": [],
   "source": [
    "import torch"
   ]
  },
  {
   "cell_type": "markdown",
   "id": "5c3215f3",
   "metadata": {},
   "source": [
    "### Funções\n",
    "Funções utilizandas dentro da criação dos modelos"
   ]
  },
  {
   "cell_type": "code",
   "execution_count": null,
   "id": "13653f8e",
   "metadata": {},
   "outputs": [],
   "source": [
    "def mse(values: torch.Tensor, y: float):\n",
    "    return sum([(value - y)**2 for value in values])/len(values)\n",
    "\n",
    "\n",
    "def neuron(values: torch.Tensor, weights: torch.Tensor, bias=0):\n",
    "    return sum([ (values[idx] * weights[idx]) for idx in range(len(values))]) + bias\n",
    "\n",
    "\n",
    "# Precisa terminar a função\n",
    "def neuron_param_adjust(output, target, input_value, weight, learn_rate=0.1):\n",
    "\n",
    "    error = target - output\n",
    "    sigmoid_derivative = output * (1 - output)\n",
    "    gradient = error * sigmoid_derivative * input_value\n",
    "\n",
    "    new_weight = weight + learn_rate * gradient\n",
    "    \n",
    "    return new_weight\n",
    "\n",
    "\n",
    "def sigmoid(x: float):\n",
    "    return 1/(1 + (torch.exp(torch.tensor(1)))**(-x))"
   ]
  },
  {
   "cell_type": "code",
   "execution_count": null,
   "id": "041e2441",
   "metadata": {},
   "outputs": [
    {
     "name": "stdout",
     "output_type": "stream",
     "text": [
      "Época 0: Output=0.5430, Pesos=tensor([0.1350, 0.1350, 0.1350])\n",
      "Época 10: Output=0.7541, Pesos=tensor([0.4993, 0.4993, 0.4993])\n",
      "Época 20: Output=0.8798, Pesos=tensor([0.7565, 0.7565, 0.7565])\n",
      "Época 30: Output=0.9268, Pesos=tensor([0.9158, 0.9158, 0.9158])\n",
      "Época 40: Output=0.9484, Pesos=tensor([1.0261, 1.0261, 1.0261])\n"
     ]
    }
   ],
   "source": [
    "y = 3\n",
    "x_input = torch.tensor([1.0, 1.0, 1.0])\n",
    "weights = torch.tensor([0.1, 0.1, 0.1])\n",
    "epoch = 43\n",
    "\n",
    "for i in range(epoch):\n",
    "    node1 = neuron(x_input, weights)\n",
    "    sig1 = sigmoid(float(node1))\n",
    "    \n",
    "    x_layer2 = torch.tensor([sig1, sig1, sig1])\n",
    "    node2 = neuron(x_layer2, weights)\n",
    "    sig2 = sigmoid(float(node2))\n",
    "    \n",
    "    new_weights = []\n",
    "    for j in range(len(weights)):\n",
    "        new_weight = neuron_param_adjust(\n",
    "            output=sig2, \n",
    "            target=y, \n",
    "            input_value=x_layer2[j], \n",
    "            weight=weights[j], \n",
    "            learn_rate=0.1\n",
    "        )\n",
    "        new_weights.append(new_weight)\n",
    "    \n",
    "    weights = torch.tensor(new_weights)\n",
    "    \n",
    "    if i % 10 == 0:\n",
    "        print(f\"Época {i}: Output={sig2:.4f}, Pesos={weights}\")"
   ]
  },
  {
   "cell_type": "code",
   "execution_count": null,
   "id": "c018f741",
   "metadata": {},
   "outputs": [
    {
     "name": "stdout",
     "output_type": "stream",
     "text": [
      "MSE: 0.0007234846125356853\n"
     ]
    }
   ],
   "source": [
    "pred_error = mse(torch.tensor([node2]), y)\n",
    "print(f\"MSE: {pred_error}\")"
   ]
  }
 ],
 "metadata": {
  "kernelspec": {
   "display_name": ".venv (3.12.3)",
   "language": "python",
   "name": "python3"
  },
  "language_info": {
   "codemirror_mode": {
    "name": "ipython",
    "version": 3
   },
   "file_extension": ".py",
   "mimetype": "text/x-python",
   "name": "python",
   "nbconvert_exporter": "python",
   "pygments_lexer": "ipython3",
   "version": "3.12.3"
  }
 },
 "nbformat": 4,
 "nbformat_minor": 5
}
