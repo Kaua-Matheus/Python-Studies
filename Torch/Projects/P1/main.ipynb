{
 "cells": [
  {
   "cell_type": "markdown",
   "id": "05eef025",
   "metadata": {},
   "source": [
    "### Cálculos\n",
    "Existem diversos cálculos e fórmulas por trás da criação de uma ANN\n",
    "\n",
    "__ANN Perceptron__:\\\n",
    "Essa é uma função para criação de um perceptron\n",
    "$$\n",
    "    Node = \\sum_{i=1}^n {x_i \\cdot w_i}\n",
    "$$\n",
    "\n",
    "__Sigmoid__:\\\n",
    "Função de ativação\n",
    "$$\n",
    "    Sigmoid = \\frac{1}{1 + e^{-x}}\n",
    "$$\n",
    "\n",
    "__Weight Error__:\\\n",
    "Cálculo de erro e alteração de pesos\n",
    "$$\n",
    "    t = \\text{taxa de aprendizagem} \\\\\n",
    "    W_{(n)} = W_{(n)} + t[d(n) - Y(n)] \\cdot X(n)\n",
    "$$\n",
    "\n",
    "__MSE__:\\\n",
    "Erro médio quadrático\n",
    "$$\n",
    "    MSE = \\frac{ \\sum{(x_i - y)²} }{ n }\n",
    "$$"
   ]
  },
  {
   "cell_type": "code",
   "execution_count": 1,
   "id": "3dbb42fd",
   "metadata": {},
   "outputs": [],
   "source": [
    "import torch"
   ]
  },
  {
   "cell_type": "markdown",
   "id": "5c3215f3",
   "metadata": {},
   "source": [
    "### Funções\n",
    "Funções utilizandas dentro da criação dos modelos"
   ]
  },
  {
   "cell_type": "code",
   "execution_count": 9,
   "id": "13653f8e",
   "metadata": {},
   "outputs": [],
   "source": [
    "def mse(values: torch.Tensor, y: float):\n",
    "    return sum([(value - y)**2 for value in values])/len(values)\n",
    "\n",
    "\n",
    "def neuron(values: torch.Tensor, weights: torch.Tensor, bias=0):\n",
    "    return sum([ (values[idx] * weights[idx] + bias) for idx in range(len(values))])\n",
    "\n",
    "\n",
    "# Precisa terminar a função\n",
    "def neuron_param_adjust(output, target, input_value, weight, learn_rate=0.1):\n",
    "\n",
    "    error = target - output\n",
    "    sigmoid_derivative = output * (1 - output)\n",
    "    gradient = error * sigmoid_derivative * input_value\n",
    "\n",
    "    new_weight = weight + learn_rate * gradient\n",
    "    \n",
    "    return new_weight\n",
    "\n",
    "\n",
    "def sigmoid(x: float):\n",
    "    return 1/(1 + (torch.exp(torch.tensor(1)))**(-x))"
   ]
  },
  {
   "cell_type": "code",
   "execution_count": 10,
   "id": "e9b4c0f3",
   "metadata": {},
   "outputs": [],
   "source": [
    "# alvo\n",
    "y = 3\n",
    "\n",
    "# predição\n",
    "x_1 = torch.tensor([1]*3)\n",
    "weights = torch.tensor([0.1]*3)"
   ]
  },
  {
   "cell_type": "code",
   "execution_count": 11,
   "id": "2adaa688",
   "metadata": {},
   "outputs": [
    {
     "data": {
      "text/plain": [
       "(tensor(0.3000), tensor(0.5744))"
      ]
     },
     "execution_count": 11,
     "metadata": {},
     "output_type": "execute_result"
    }
   ],
   "source": [
    "# Cálculo de primeiro neurônio\n",
    "neuron_1 = neuron(x_1, weights)\n",
    "sig_1 = sigmoid(float(neuron_1))\n",
    "\n",
    "# Exibindo valores\n",
    "neuron_1, sig_1"
   ]
  },
  {
   "cell_type": "code",
   "execution_count": 12,
   "id": "d5778007",
   "metadata": {},
   "outputs": [
    {
     "data": {
      "text/plain": [
       "(tensor(0.1723), tensor(0.5430))"
      ]
     },
     "execution_count": 12,
     "metadata": {},
     "output_type": "execute_result"
    }
   ],
   "source": [
    "# Cálculo de segundo neurônio\n",
    "x_2 = torch.tensor([sig_1]*3)\n",
    "neuron_out = neuron(x_2, weights)\n",
    "sig_2 = sigmoid(float(neuron_out))\n",
    "\n",
    "# Exibindo valores\n",
    "neuron_out, sig_2"
   ]
  },
  {
   "cell_type": "code",
   "execution_count": 13,
   "id": "c018f741",
   "metadata": {},
   "outputs": [
    {
     "name": "stdout",
     "output_type": "stream",
     "text": [
      "MSE: 7.995701789855957\n"
     ]
    }
   ],
   "source": [
    "pred_error = mse(torch.tensor([neuron_out]), y)\n",
    "\n",
    "# Quanto menor o MSE, menor é o erro quadrático!\n",
    "print(f\"MSE: {pred_error}\")"
   ]
  },
  {
   "cell_type": "code",
   "execution_count": 22,
   "id": "9a0a6946",
   "metadata": {},
   "outputs": [],
   "source": [
    "# Ajuste de parâmetros\n",
    "new_wheights = [neuron_param_adjust(sig_2, y, x_2[i], weights[i]) for i in range(len(weights)) ]"
   ]
  },
  {
   "cell_type": "code",
   "execution_count": 23,
   "id": "145ec348",
   "metadata": {},
   "outputs": [
    {
     "data": {
      "text/plain": [
       "[tensor(0.1350), tensor(0.1350), tensor(0.1350)]"
      ]
     },
     "execution_count": 23,
     "metadata": {},
     "output_type": "execute_result"
    }
   ],
   "source": [
    "new_wheights"
   ]
  }
 ],
 "metadata": {
  "kernelspec": {
   "display_name": ".venv (3.12.3)",
   "language": "python",
   "name": "python3"
  },
  "language_info": {
   "codemirror_mode": {
    "name": "ipython",
    "version": 3
   },
   "file_extension": ".py",
   "mimetype": "text/x-python",
   "name": "python",
   "nbconvert_exporter": "python",
   "pygments_lexer": "ipython3",
   "version": "3.12.3"
  }
 },
 "nbformat": 4,
 "nbformat_minor": 5
}
