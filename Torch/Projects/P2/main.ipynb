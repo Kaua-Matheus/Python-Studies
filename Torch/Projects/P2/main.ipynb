{
 "cells": [
  {
   "cell_type": "markdown",
   "id": "ec9d306c",
   "metadata": {},
   "source": [
    "## Goal\n",
    "The goal is implement a ANN, but with layers, multlayers and with another functions. Compare the inputs and the outputs for every layer.\n",
    "Understand how every layer math works and implement it in code."
   ]
  },
  {
   "cell_type": "code",
   "execution_count": 3,
   "id": "4eb2620e",
   "metadata": {},
   "outputs": [],
   "source": [
    "import torch"
   ]
  },
  {
   "cell_type": "code",
   "execution_count": 4,
   "id": "1d17fa50",
   "metadata": {},
   "outputs": [],
   "source": [
    "# ---- Functions ----\n",
    "def node(values, weights, bias=0):\n",
    "    return sum([(values[idx] * weights[idx] + bias) for idx in range(len(values))])\n",
    "\n",
    "def sigmoid(value):\n",
    "    return (1/(1 + torch.exp(torch.tensor(1))**(-value)))\n",
    "\n",
    "def hyperbolicTangent(value):\n",
    "    return (2/(1 + torch.exp(torch.tensor(1))**(-2*value))) - 1\n",
    "\n",
    "def ReLU(value):\n",
    "    return torch.max(torch.tensor(0), torch.tensor(value))"
   ]
  },
  {
   "cell_type": "code",
   "execution_count": null,
   "id": "b77039a2",
   "metadata": {},
   "outputs": [],
   "source": []
  },
  {
   "cell_type": "code",
   "execution_count": 6,
   "id": "506fbe3b",
   "metadata": {},
   "outputs": [],
   "source": [
    "value = 2\n",
    "sig = sigmoid(value)\n",
    "ht = hyperbolicTangent(value)\n",
    "relu = ReLU(value)"
   ]
  },
  {
   "cell_type": "code",
   "execution_count": 7,
   "id": "10c99551",
   "metadata": {},
   "outputs": [
    {
     "name": "stdout",
     "output_type": "stream",
     "text": [
      "\n",
      "    Sigmoid: 0.8807970285415649\n",
      "    HT: 0.9640275239944458\n",
      "    ReLU: 2\n",
      "\n"
     ]
    }
   ],
   "source": [
    "print(f\"\"\"\n",
    "    Sigmoid: {sig}\n",
    "    HT: {ht}\n",
    "    ReLU: {relu}\n",
    "\"\"\")"
   ]
  }
 ],
 "metadata": {
  "kernelspec": {
   "display_name": ".venv (3.12.3)",
   "language": "python",
   "name": "python3"
  },
  "language_info": {
   "codemirror_mode": {
    "name": "ipython",
    "version": 3
   },
   "file_extension": ".py",
   "mimetype": "text/x-python",
   "name": "python",
   "nbconvert_exporter": "python",
   "pygments_lexer": "ipython3",
   "version": "3.12.3"
  }
 },
 "nbformat": 4,
 "nbformat_minor": 5
}
