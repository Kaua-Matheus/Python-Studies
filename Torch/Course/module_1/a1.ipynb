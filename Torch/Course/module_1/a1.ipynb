{
 "cells": [
  {
   "cell_type": "markdown",
   "id": "fba96f87",
   "metadata": {},
   "source": [
    "# Lesson\n",
    "We'll understand about torch.nn, the torch library with every block to build a NN"
   ]
  },
  {
   "cell_type": "code",
   "execution_count": 1,
   "id": "e9985623",
   "metadata": {},
   "outputs": [
    {
     "name": "stderr",
     "output_type": "stream",
     "text": [
      "/home/operador/Documentos/Estudos/Projetos/Python Studies/.venv/lib/python3.12/site-packages/torch/cuda/__init__.py:63: FutureWarning: The pynvml package is deprecated. Please install nvidia-ml-py instead. If you did not install pynvml directly, please report this to the maintainers of the package that installed pynvml for you.\n",
      "  import pynvml  # type: ignore[import]\n"
     ]
    },
    {
     "data": {
      "text/plain": [
       "'2.8.0+cu128'"
      ]
     },
     "execution_count": 1,
     "metadata": {},
     "output_type": "execute_result"
    }
   ],
   "source": [
    "import torch\n",
    "from torch import nn\n",
    "\n",
    "import matplotlib.pyplot as plt\n",
    "\n",
    "torch.__version__"
   ]
  },
  {
   "cell_type": "markdown",
   "id": "e586f1dc",
   "metadata": {},
   "source": [
    "## Preparing Data\n",
    "There is a lot of kind of data, and off course you'll need prepar it before use it in any model.\n",
    "\n",
    "Here is the steps:\n",
    "1. Get some data.\n",
    "2. Clean it.\n",
    "3. Transform the data in numerical.\n",
    "4. Build a model to learn patterns from this numerical data.\n",
    "\n",
    "We'll use a linear regression function to make straight line with known __parameters__."
   ]
  },
  {
   "cell_type": "code",
   "execution_count": 2,
   "id": "e8825f1a",
   "metadata": {},
   "outputs": [],
   "source": [
    "weight = 0.7\n",
    "bias = 0.3\n",
    "\n",
    "\n",
    "start = 0\n",
    "end = 1\n",
    "step = 0.02"
   ]
  },
  {
   "cell_type": "code",
   "execution_count": 3,
   "id": "548d4f29",
   "metadata": {},
   "outputs": [],
   "source": [
    "X = torch.arange(start, end, step).unsqueeze(dim=1)\n",
    "y = weight * X + bias # Simple weight by value\n",
    "\n",
    "train_split = int(0.8 * len(X))\n",
    "\n",
    "# Separando os dados\n",
    "X_train, y_train = X[:train_split], y[:train_split]\n",
    "X_test, y_test = X[train_split:], y[train_split:]"
   ]
  },
  {
   "cell_type": "code",
   "execution_count": 4,
   "id": "bf61a18e",
   "metadata": {},
   "outputs": [
    {
     "data": {
      "text/plain": [
       "(40, 10, 40, 10)"
      ]
     },
     "execution_count": 4,
     "metadata": {},
     "output_type": "execute_result"
    }
   ],
   "source": [
    "len(X_train), len(X_test), len(y_train), len(y_test)"
   ]
  },
  {
   "cell_type": "code",
   "execution_count": 5,
   "id": "187f81dc",
   "metadata": {},
   "outputs": [
    {
     "name": "stdout",
     "output_type": "stream",
     "text": [
      "\n",
      "    Valores de X: tensor([[0.0000],\n",
      "        [0.0200],\n",
      "        [0.0400],\n",
      "        [0.0600]])...\n",
      "\n",
      "    Valores de y: tensor([[0.3000],\n",
      "        [0.3140],\n",
      "        [0.3280],\n",
      "        [0.3420]])...\n",
      "\n"
     ]
    }
   ],
   "source": [
    "print(f\"\"\"\n",
    "    Valores de X: {X[:4]}...\\n\n",
    "    Valores de y: {y[:4]}...\n",
    "\"\"\")"
   ]
  },
  {
   "cell_type": "markdown",
   "id": "fa44d0ec",
   "metadata": {},
   "source": [
    "## How can we visualize our data?"
   ]
  },
  {
   "cell_type": "code",
   "execution_count": 6,
   "id": "bbf78f63",
   "metadata": {},
   "outputs": [],
   "source": [
    "def plot_prediction(\n",
    "        train_data=X_train,\n",
    "        train_labels=y_train,\n",
    "        test_data=X_test,\n",
    "        test_labels=y_test,\n",
    "        predictions=None\n",
    "):\n",
    "    \"\"\"\n",
    "        Plot the graphs of the data\n",
    "    \"\"\"\n",
    "    plt.figure(figsize=(7, 4))\n",
    "\n",
    "    # Plot training data in blue\n",
    "    plt.scatter(train_data, train_labels, c=\"b\", s=4, label=\"Training Data\")\n",
    "\n",
    "    # Plot test data in green\n",
    "    plt.scatter(test_data, test_labels, c=\"g\", s=4, label=\"Test Data\")\n",
    "\n",
    "    if predictions != None:\n",
    "        plt.scatter(test_data, predictions, c='r', s=4, label='Predictions')"
   ]
  },
  {
   "cell_type": "code",
   "execution_count": 7,
   "id": "0cb417d0",
   "metadata": {},
   "outputs": [
    {
     "data": {
      "image/png": "[encoded data removed]",
      "text/plain": [
       "<Figure size 700x400 with 1 Axes>"
      ]
     },
     "metadata": {},
     "output_type": "display_data"
    }
   ],
   "source": [
    "plot_prediction(X_train, y_train, X_test, y_test)"
   ]
  },
  {
   "cell_type": "markdown",
   "id": "d40e5752",
   "metadata": {},
   "source": [
    "## Creating ANN class\n",
    "We gonna create a simple ANN model to show the basics about it with torch\n",
    "\n",
    "We'll use:\n",
    "- Gradient Descent\n",
    "    - The loss function is defined by this function, with more precision and lower cost.\n",
    "- Backpropagation\n",
    "    - The weight of the nodes are automatically manipulated"
   ]
  },
  {
   "cell_type": "code",
   "execution_count": 8,
   "id": "f948819e",
   "metadata": {},
   "outputs": [],
   "source": [
    "# Creating the class using the Module\n",
    "class NeuralNetwork(nn.Module):\n",
    "    def __init__(self):\n",
    "        super().__init__()\n",
    "\n",
    "        # Parameter defines a kind of tensor considerated by nn.Module\n",
    "        self.weights = nn.Parameter(torch.rand(1,\n",
    "                                               requires_grad=True, # <- Setting the gradient-descent\n",
    "                                               dtype=torch.float))\n",
    "        self.bias = nn.Parameter(torch.rand(1,\n",
    "                                               requires_grad=True, # <- Setting the gradient-descent\n",
    "                                               dtype=torch.float))\n",
    "        \n",
    "    def forward(self, X: torch.Tensor) -> torch.Tensor:\n",
    "        return self.weights * X + self.bias"
   ]
  },
  {
   "cell_type": "markdown",
   "id": "d911bde8",
   "metadata": {},
   "source": [
    "### Essencials about\n",
    "- torch.nn - Contains all of the buildings to computational graphs\n",
    "- torch.nn.Parameter - What parameters should our model try and learn\n",
    "- torch.nn.Module - The base class for all network modules, if you subclass it, you should overwire forward()\n",
    "- torch.optim - This where the optimizer in PyTorch live, they will help with gradient descent\n",
    "- def forward() - All nn.Module subclasses require you to overwrite forward(), this method defines what happens in the forward computation"
   ]
  },
  {
   "cell_type": "code",
   "execution_count": 9,
   "id": "37d94932",
   "metadata": {},
   "outputs": [
    {
     "data": {
      "text/plain": [
       "[Parameter containing:\n",
       " tensor([0.8823], requires_grad=True),\n",
       " Parameter containing:\n",
       " tensor([0.9150], requires_grad=True)]"
      ]
     },
     "execution_count": 9,
     "metadata": {},
     "output_type": "execute_result"
    }
   ],
   "source": [
    "# We'll set a seed to have the same value in all executions\n",
    "torch.manual_seed(42)\n",
    "\n",
    "model0 = NeuralNetwork()\n",
    "list(model0.parameters())"
   ]
  },
  {
   "cell_type": "code",
   "execution_count": 10,
   "id": "4e890a1d",
   "metadata": {},
   "outputs": [
    {
     "data": {
      "text/plain": [
       "OrderedDict([('weights', tensor([0.8823])), ('bias', tensor([0.9150]))])"
      ]
     },
     "execution_count": 10,
     "metadata": {},
     "output_type": "execute_result"
    }
   ],
   "source": [
    "# Showing the parameter name and value\n",
    "model0.state_dict()"
   ]
  },
  {
   "cell_type": "markdown",
   "id": "101fc42c",
   "metadata": {},
   "source": [
    "### Doing Predictions"
   ]
  },
  {
   "cell_type": "code",
   "execution_count": 11,
   "id": "52803efe",
   "metadata": {},
   "outputs": [
    {
     "name": "stdout",
     "output_type": "stream",
     "text": [
      "0.8000000 : 0.8600000\n",
      "0.8200000 : 0.8740000\n",
      "0.8400000 : 0.8880000\n",
      "0.8600000 : 0.9020000\n",
      "0.8800000 : 0.9160000\n",
      "0.9000000 : 0.9300000\n",
      "0.9200000 : 0.9440000\n",
      "0.9400000 : 0.9580000\n",
      "0.9600000 : 0.9720000\n",
      "0.9800000 : 0.9860000\n"
     ]
    }
   ],
   "source": [
    "for i in range(len(X_test)):\n",
    "    print(f\"{float(X_test[i]):.7f} : {float(y_test[i]):.7f}\")"
   ]
  },
  {
   "cell_type": "code",
   "execution_count": 12,
   "id": "3850a96a",
   "metadata": {},
   "outputs": [
    {
     "data": {
      "text/plain": [
       "tensor([[1.6208],\n",
       "        [1.6385],\n",
       "        [1.6561],\n",
       "        [1.6738],\n",
       "        [1.6914],\n",
       "        [1.7090],\n",
       "        [1.7267],\n",
       "        [1.7443],\n",
       "        [1.7620],\n",
       "        [1.7796]])"
      ]
     },
     "execution_count": 12,
     "metadata": {},
     "output_type": "execute_result"
    }
   ],
   "source": [
    "with torch.inference_mode():\n",
    "    y_preds = model0(X_test)\n",
    "\n",
    "y_preds"
   ]
  },
  {
   "cell_type": "code",
   "execution_count": 13,
   "id": "c4721a4c",
   "metadata": {},
   "outputs": [
    {
     "data": {
      "image/png": "[encoded data removed]",
      "text/plain": [
       "<Figure size 700x400 with 1 Axes>"
      ]
     },
     "metadata": {},
     "output_type": "display_data"
    }
   ],
   "source": [
    "# Verifing the prediction, it's the red one\n",
    "plot_prediction(predictions=y_preds)"
   ]
  },
  {
   "cell_type": "markdown",
   "id": "1328af55",
   "metadata": {},
   "source": [
    "### Loss Function\n",
    "To improve the model and figure out how much wrong it was, we need use a loss function. Like MSE, and we need to change the weights and bias based in this loss / error.\\\n",
    "$MSE = \\frac{ \\sum{ \\sqrt{x_i - y)²}} }{n} $"
   ]
  },
  {
   "cell_type": "code",
   "execution_count": 14,
   "id": "c532f560",
   "metadata": {},
   "outputs": [
    {
     "data": {
      "text/plain": [
       "tensor([0.8823])"
      ]
     },
     "execution_count": 14,
     "metadata": {},
     "output_type": "execute_result"
    }
   ],
   "source": [
    "model0.state_dict()['weights']"
   ]
  },
  {
   "cell_type": "code",
   "execution_count": 15,
   "id": "cf76c54f",
   "metadata": {},
   "outputs": [
    {
     "name": "stdout",
     "output_type": "stream",
     "text": [
      "Weights: 0.88\n",
      "Target: 0.64\n"
     ]
    }
   ],
   "source": [
    "print(f\"Weights: {float(model0.state_dict()[\"weights\"]):.2f}\\nTarget: {y.mean():.2f}\")"
   ]
  },
  {
   "cell_type": "code",
   "execution_count": 16,
   "id": "2d4bd832",
   "metadata": {},
   "outputs": [
    {
     "name": "stderr",
     "output_type": "stream",
     "text": [
      "/home/operador/Documentos/Estudos/Projetos/Python Studies/.venv/lib/python3.12/site-packages/torch/nn/modules/loss.py:129: UserWarning: Using a target size (torch.Size([50, 1])) that is different to the input size (torch.Size([1])). This will likely lead to incorrect results due to broadcasting. Please ensure they have the same size.\n",
      "  return F.l1_loss(input, target, reduction=self.reduction)\n"
     ]
    },
    {
     "data": {
      "text/plain": [
       "tensor(0.2568, grad_fn=<MeanBackward0>)"
      ]
     },
     "execution_count": 16,
     "metadata": {},
     "output_type": "execute_result"
    }
   ],
   "source": [
    "# This is the loss function, it made the MSE calculus to check the \"distance\" from y\n",
    "\n",
    "loss = nn.L1Loss()\n",
    "output = loss(model0.weights, y)\n",
    "output.backward()\n",
    "\n",
    "# This is the value of the MSE, 0,2393 I calculate manually.\n",
    "output"
   ]
  },
  {
   "cell_type": "code",
   "execution_count": null,
   "id": "842bdd31",
   "metadata": {},
   "outputs": [],
   "source": [
    "from torch.optim import SGD\n",
    "\n",
    "optimizer_fc = SGD(model0.parameters(), lr=0.01, momentum=0.9)\n",
    "loss_fc = nn.L1Loss()\n",
    "\n",
    "# 30 Epochs is the best number\n",
    "epoch = 30"
   ]
  },
  {
   "cell_type": "code",
   "execution_count": 37,
   "id": "d09fb66c",
   "metadata": {},
   "outputs": [
    {
     "name": "stdout",
     "output_type": "stream",
     "text": [
      "Epoch: 1/30\n",
      "Out: 0.002114995615556836\n",
      "Epoch: 2/30\n",
      "Out: 0.009405992925167084\n",
      "Epoch: 3/30\n",
      "Out: 0.008253908716142178\n",
      "Epoch: 4/30\n",
      "Out: 0.004303971771150827\n",
      "Epoch: 5/30\n",
      "Out: 0.00408508162945509\n",
      "Epoch: 6/30\n",
      "Out: 0.007632918655872345\n",
      "Epoch: 7/30\n",
      "Out: 0.00665814196690917\n",
      "Epoch: 8/30\n",
      "Out: 0.0057401834055781364\n",
      "Epoch: 9/30\n",
      "Out: 0.005377680063247681\n",
      "Epoch: 10/30\n",
      "Out: 0.00646959850564599\n",
      "Epoch: 11/30\n",
      "Out: 0.005611162632703781\n",
      "Epoch: 12/30\n",
      "Out: 0.00668244669213891\n",
      "Epoch: 13/30\n",
      "Out: 0.006225683726370335\n",
      "Epoch: 14/30\n",
      "Out: 0.005706402473151684\n",
      "Epoch: 15/30\n",
      "Out: 0.004924274981021881\n",
      "Epoch: 16/30\n",
      "Out: 0.007300656288862228\n",
      "Epoch: 17/30\n",
      "Out: 0.006782087497413158\n",
      "Epoch: 18/30\n",
      "Out: 0.005205622408539057\n",
      "Epoch: 19/30\n",
      "Out: 0.004473556764423847\n",
      "Epoch: 20/30\n",
      "Out: 0.007706298027187586\n",
      "Epoch: 21/30\n",
      "Out: 0.007147160358726978\n",
      "Epoch: 22/30\n",
      "Out: 0.004877049475908279\n",
      "Epoch: 23/30\n",
      "Out: 0.00417784508317709\n",
      "Epoch: 24/30\n",
      "Out: 0.00797243881970644\n",
      "Epoch: 25/30\n",
      "Out: 0.007386674173176289\n",
      "Epoch: 26/30\n",
      "Out: 0.0046614957973361015\n",
      "Epoch: 27/30\n",
      "Out: 0.003983846865594387\n",
      "Epoch: 28/30\n",
      "Out: 0.008147047832608223\n",
      "Epoch: 29/30\n",
      "Out: 0.007543837185949087\n",
      "Epoch: 30/30\n",
      "Out: 0.004520049784332514\n"
     ]
    }
   ],
   "source": [
    "for e in range(epoch):\n",
    "\n",
    "    y_pred = model0(X_train)\n",
    "    optimizer_fc.zero_grad()\n",
    "\n",
    "    loss = loss_fc(y_pred, y_train)\n",
    "\n",
    "    loss.backward()\n",
    "    optimizer_fc.step()\n",
    "\n",
    "    print(f\"Epoch: {e + 1}/{epoch}\")\n",
    "    print(f\"Out: {loss}\")"
   ]
  },
  {
   "cell_type": "code",
   "execution_count": 50,
   "id": "6770abdb",
   "metadata": {},
   "outputs": [],
   "source": [
    "with torch.inference_mode():\n",
    "    final_pred = model0(X_test)"
   ]
  },
  {
   "cell_type": "code",
   "execution_count": null,
   "id": "1152b17a",
   "metadata": {},
   "outputs": [
    {
     "data": {
      "image/png": "[encoded data removed]",
      "text/plain": [
       "<Figure size 700x400 with 1 Axes>"
      ]
     },
     "metadata": {},
     "output_type": "display_data"
    }
   ],
   "source": [
    "# This is the final result of the model\n",
    "plot_prediction(predictions=final_pred)"
   ]
  },
  {
   "cell_type": "markdown",
   "id": "8d03ce70",
   "metadata": {},
   "source": [
    "## Precision"
   ]
  },
  {
   "cell_type": "code",
   "execution_count": null,
   "id": "56025712",
   "metadata": {},
   "outputs": [
    {
     "data": {
      "text/plain": [
       "tensor(0.0271)"
      ]
     },
     "execution_count": 54,
     "metadata": {},
     "output_type": "execute_result"
    }
   ],
   "source": [
    "loss = nn.L1Loss()\n",
    "output = loss(final_pred, X_test)\n",
    "\n",
    "# Final MSE result for the prediction\n",
    "output"
   ]
  }
 ],
 "metadata": {
  "kernelspec": {
   "display_name": ".venv (3.12.3)",
   "language": "python",
   "name": "python3"
  },
  "language_info": {
   "codemirror_mode": {
    "name": "ipython",
    "version": 3
   },
   "file_extension": ".py",
   "mimetype": "text/x-python",
   "name": "python",
   "nbconvert_exporter": "python",
   "pygments_lexer": "ipython3",
   "version": "3.12.3"
  }
 },
 "nbformat": 4,
 "nbformat_minor": 5
}
