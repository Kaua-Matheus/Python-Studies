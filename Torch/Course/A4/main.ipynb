{
 "cells": [
  {
   "cell_type": "markdown",
   "id": "02a62d74",
   "metadata": {},
   "source": [
    "# GPU e CPU"
   ]
  },
  {
   "cell_type": "code",
   "execution_count": 6,
   "id": "3478d861",
   "metadata": {},
   "outputs": [],
   "source": [
    "import torch"
   ]
  },
  {
   "cell_type": "markdown",
   "id": "7629e9e9",
   "metadata": {},
   "source": [
    "### Verificando GPU"
   ]
  },
  {
   "cell_type": "code",
   "execution_count": 7,
   "id": "1ebe9942",
   "metadata": {},
   "outputs": [
    {
     "data": {
      "text/plain": [
       "True"
      ]
     },
     "execution_count": 7,
     "metadata": {},
     "output_type": "execute_result"
    }
   ],
   "source": [
    "# Verifica se a CUDA está disponível (se existe)\n",
    "torch.cuda.is_available()"
   ]
  },
  {
   "cell_type": "code",
   "execution_count": 8,
   "id": "05d4db30",
   "metadata": {},
   "outputs": [
    {
     "data": {
      "text/plain": [
       "1"
      ]
     },
     "execution_count": 8,
     "metadata": {},
     "output_type": "execute_result"
    }
   ],
   "source": [
    "# Conta a quantidade de dispositivos\n",
    "torch.cuda.device_count()"
   ]
  },
  {
   "cell_type": "code",
   "execution_count": 9,
   "id": "fa7e512d",
   "metadata": {},
   "outputs": [
    {
     "data": {
      "text/plain": [
       "0"
      ]
     },
     "execution_count": 9,
     "metadata": {},
     "output_type": "execute_result"
    }
   ],
   "source": [
    "# Verifica a quantidade máxima de memória alocada\n",
    "torch.cuda.max_memory_allocated()"
   ]
  },
  {
   "cell_type": "code",
   "execution_count": 10,
   "id": "371780ad",
   "metadata": {},
   "outputs": [
    {
     "data": {
      "text/plain": [
       "45"
      ]
     },
     "execution_count": 10,
     "metadata": {},
     "output_type": "execute_result"
    }
   ],
   "source": [
    "# Verificação da temperatura da GPU\n",
    "torch.cuda.temperature()"
   ]
  },
  {
   "cell_type": "code",
   "execution_count": 17,
   "id": "0da7100c",
   "metadata": {},
   "outputs": [],
   "source": [
    "# Definindo qual é o tipo de device para rodar a aplicação\n",
    "device = \"cuda\" if torch.cuda.is_available() else \"cpu\""
   ]
  },
  {
   "cell_type": "markdown",
   "id": "4ed977d0",
   "metadata": {},
   "source": [
    "### Criando tensores\n",
    "Podemos usar a função \".to\" para mover tensores para diferentestipos de dispositivos (cpu, cuda)\\\n",
    "Mas também é possível utilizar para mover modelos"
   ]
  },
  {
   "cell_type": "code",
   "execution_count": 15,
   "id": "ecd8268b",
   "metadata": {},
   "outputs": [
    {
     "data": {
      "text/plain": [
       "(tensor([1, 2, 3]), device(type='cpu'))"
      ]
     },
     "execution_count": 15,
     "metadata": {},
     "output_type": "execute_result"
    }
   ],
   "source": [
    "# tensor na cpu\n",
    "tensor_cpu = torch.tensor([1, 2, 3], device=\"cpu\")\n",
    "tensor_cpu, tensor_cpu.device"
   ]
  },
  {
   "cell_type": "code",
   "execution_count": 16,
   "id": "da2ce6ba",
   "metadata": {},
   "outputs": [
    {
     "data": {
      "text/plain": [
       "(tensor([1, 2, 3], device='cuda:0'), device(type='cuda', index=0))"
      ]
     },
     "execution_count": 16,
     "metadata": {},
     "output_type": "execute_result"
    }
   ],
   "source": [
    "# tensor na gpu (É possível verificar em qual gpu está)\n",
    "tensor_gpu = torch.tensor([1, 2, 3], device=\"cuda\")\n",
    "tensor_gpu, tensor_gpu.device"
   ]
  },
  {
   "cell_type": "code",
   "execution_count": 19,
   "id": "2e517177",
   "metadata": {},
   "outputs": [
    {
     "data": {
      "text/plain": [
       "(tensor([1, 2, 3], device='cuda:0'), device(type='cuda', index=0))"
      ]
     },
     "execution_count": 19,
     "metadata": {},
     "output_type": "execute_result"
    }
   ],
   "source": [
    "# Como mover um tensor para a GPU\n",
    "tensor_movido = tensor_cpu.to(device)\n",
    "tensor_movido, tensor_movido.device"
   ]
  },
  {
   "cell_type": "code",
   "execution_count": null,
   "id": "41b74613",
   "metadata": {},
   "outputs": [
    {
     "data": {
      "text/plain": [
       "(tensor([1, 2, 3]), device(type='cpu'))"
      ]
     },
     "execution_count": 22,
     "metadata": {},
     "output_type": "execute_result"
    }
   ],
   "source": [
    "# Como passar um tensor de uma GPU para a CPU\n",
    "tensor_to_cpu = tensor_movido.cpu() # Isso é feito para evitar conflitos, visto que o tipo que está na GPU é diferente do tipo da CPU\n",
    "tensor_to_cpu, tensor_to_cpu.device"
   ]
  },
  {
   "cell_type": "code",
   "execution_count": null,
   "id": "fb5c7e97",
   "metadata": {},
   "outputs": [],
   "source": [
    "# Adquire o nome do dispositivo atual\n",
    "torch.cuda.get_device_name()"
   ]
  },
  {
   "cell_type": "code",
   "execution_count": null,
   "id": "4d6af163",
   "metadata": {},
   "outputs": [],
   "source": [
    "# Adquirindo uma série de informações do cuda\n",
    "var = torch.cuda.get_device_properties()\n",
    "print(f\"\"\"\n",
    "    Nome: {var.name}\n",
    "    Memória Total: {var.total_memory / 1024 ** 3:.2f} Gb\n",
    "    Temperatura: {torch.cuda.temperature()}ºC\n",
    "\"\"\")"
   ]
  }
 ],
 "metadata": {
  "kernelspec": {
   "display_name": ".venv (3.12.3)",
   "language": "python",
   "name": "python3"
  },
  "language_info": {
   "codemirror_mode": {
    "name": "ipython",
    "version": 3
   },
   "file_extension": ".py",
   "mimetype": "text/x-python",
   "name": "python",
   "nbconvert_exporter": "python",
   "pygments_lexer": "ipython3",
   "version": "3.12.3"
  }
 },
 "nbformat": 4,
 "nbformat_minor": 5
}
