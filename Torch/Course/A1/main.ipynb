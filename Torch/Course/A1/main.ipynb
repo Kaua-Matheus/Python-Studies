{
 "cells": [
  {
   "cell_type": "markdown",
   "id": "181f3864",
   "metadata": {},
   "source": [
    "# Torch\n",
    "\n",
    "There is some 3 big erros when working with pyTorch:\n",
    "1. Tensors with wrong dtype\n",
    "2. Tensors with wrong shape\n",
    "3. Tensor in the wrong device"
   ]
  },
  {
   "cell_type": "code",
   "execution_count": 6,
   "id": "4aaad6f2",
   "metadata": {},
   "outputs": [],
   "source": [
    "import torch"
   ]
  },
  {
   "cell_type": "code",
   "execution_count": null,
   "id": "2ec1b735",
   "metadata": {},
   "outputs": [
    {
     "data": {
      "text/plain": [
       "(tensor(1), torch.Size([]), 0)"
      ]
     },
     "execution_count": 12,
     "metadata": {},
     "output_type": "execute_result"
    }
   ],
   "source": [
    "# Qualquer tipo primitivo de narray é feito com tensor de torch.\n",
    "# É importante reparar nas nomenclaturas para também saber manipular.\n",
    "\n",
    "scalar = torch.tensor(1)\n",
    "scalar, scalar.shape, scalar.ndim"
   ]
  },
  {
   "cell_type": "code",
   "execution_count": 10,
   "id": "984656b8",
   "metadata": {},
   "outputs": [
    {
     "data": {
      "text/plain": [
       "(tensor(1), torch.Size([2]), 1)"
      ]
     },
     "execution_count": 10,
     "metadata": {},
     "output_type": "execute_result"
    }
   ],
   "source": [
    "vector = torch.tensor([1, 2])\n",
    "vector[0], vector.shape, vector.ndim"
   ]
  },
  {
   "cell_type": "code",
   "execution_count": 13,
   "id": "fd4895a0",
   "metadata": {},
   "outputs": [
    {
     "data": {
      "text/plain": [
       "(tensor([1, 2, 3]), torch.Size([2, 3]), 2)"
      ]
     },
     "execution_count": 13,
     "metadata": {},
     "output_type": "execute_result"
    }
   ],
   "source": [
    "MATRIX = torch.tensor([[1, 2, 3],\n",
    "                       [2, 3, 4]])\n",
    "MATRIX[0], MATRIX.shape, MATRIX.ndim"
   ]
  },
  {
   "cell_type": "code",
   "execution_count": null,
   "id": "5d8151c1",
   "metadata": {},
   "outputs": [
    {
     "data": {
      "text/plain": [
       "(tensor([[1, 2, 3],\n",
       "         [4, 5, 6],\n",
       "         [7, 8, 9]]),\n",
       " torch.Size([1, 3, 3]),\n",
       " 3)"
      ]
     },
     "execution_count": 8,
     "metadata": {},
     "output_type": "execute_result"
    }
   ],
   "source": [
    "TENSOR = torch.tensor([[[1, 2, 3],\n",
    "                        [4, 5, 6],\n",
    "                        [7, 8, 9]]])\n",
    "\n",
    "TENSOR[0], TENSOR.shape, TENSOR.ndim"
   ]
  },
  {
   "cell_type": "markdown",
   "id": "52fbaea2",
   "metadata": {},
   "source": [
    "## Torch Random"
   ]
  },
  {
   "cell_type": "markdown",
   "id": "47f251ca",
   "metadata": {},
   "source": [
    "### Torch Arange"
   ]
  },
  {
   "cell_type": "code",
   "execution_count": null,
   "id": "009e96b4",
   "metadata": {},
   "outputs": [
    {
     "data": {
      "text/plain": [
       "tensor([1, 2, 3, 4, 5, 6, 7, 8])"
      ]
     },
     "execution_count": 2,
     "metadata": {},
     "output_type": "execute_result"
    }
   ],
   "source": [
    "# Com o torch arage é possível criar tensores de sequências numéricas\n",
    "torch.arange(1, 9)"
   ]
  },
  {
   "cell_type": "code",
   "execution_count": 16,
   "id": "cf310926",
   "metadata": {},
   "outputs": [
    {
     "data": {
      "text/plain": [
       "tensor([[[1, 2, 3, 4],\n",
       "         [5, 6, 7, 8]]])"
      ]
     },
     "execution_count": 16,
     "metadata": {},
     "output_type": "execute_result"
    }
   ],
   "source": [
    "# É possível também mudar o formato do tensor com o reshape\n",
    "torch.arange(1, 9).reshape(1, 2, 4)"
   ]
  },
  {
   "cell_type": "code",
   "execution_count": 17,
   "id": "96192352",
   "metadata": {},
   "outputs": [
    {
     "data": {
      "text/plain": [
       "tensor([ 0,  5, 10, 15, 20, 25, 30, 35, 40, 45, 50, 55, 60, 65, 70, 75, 80, 85,\n",
       "        90, 95])"
      ]
     },
     "execution_count": 17,
     "metadata": {},
     "output_type": "execute_result"
    }
   ],
   "source": [
    "# Também é possível criar tensores com passos diferentes\n",
    "torch.arange(0, 100, 5)"
   ]
  },
  {
   "cell_type": "markdown",
   "id": "75144767",
   "metadata": {},
   "source": [
    "### Torch zeros"
   ]
  },
  {
   "cell_type": "code",
   "execution_count": null,
   "id": "0542459f",
   "metadata": {},
   "outputs": [
    {
     "data": {
      "text/plain": [
       "(tensor([ 1,  2,  3,  4,  5,  6,  7,  8,  9, 10]), torch.int64)"
      ]
     },
     "execution_count": 19,
     "metadata": {},
     "output_type": "execute_result"
    }
   ],
   "source": [
    "one_to_ten = torch.arange(1, 11)\n",
    "one_to_ten, one_to_ten.dtype"
   ]
  },
  {
   "cell_type": "code",
   "execution_count": null,
   "id": "ea9213c9",
   "metadata": {},
   "outputs": [
    {
     "data": {
      "text/plain": [
       "(tensor([0, 0, 0, 0, 0, 0, 0, 0, 0, 0]), torch.int64)"
      ]
     },
     "execution_count": 20,
     "metadata": {},
     "output_type": "execute_result"
    }
   ],
   "source": [
    "# Podemos criar tensores de valores X usando como base um outro tensor\n",
    "zeros = torch.zeros_like(input=one_to_ten)\n",
    "zeros, zeros.dtype"
   ]
  },
  {
   "cell_type": "markdown",
   "id": "be4f8c99",
   "metadata": {},
   "source": [
    "### Torch Empty"
   ]
  },
  {
   "cell_type": "code",
   "execution_count": 8,
   "id": "33e59652",
   "metadata": {},
   "outputs": [
    {
     "data": {
      "text/plain": [
       "tensor([[3.0421e-40, 0.0000e+00, 0.0000e+00],\n",
       "        [0.0000e+00, 3.4960e-41, 0.0000e+00]])"
      ]
     },
     "execution_count": 8,
     "metadata": {},
     "output_type": "execute_result"
    }
   ],
   "source": [
    "empty = torch.empty(2, 3)\n",
    "empty"
   ]
  },
  {
   "cell_type": "markdown",
   "id": "f28267b5",
   "metadata": {},
   "source": [
    "### Outros"
   ]
  },
  {
   "cell_type": "code",
   "execution_count": 10,
   "id": "d6379119",
   "metadata": {},
   "outputs": [
    {
     "data": {
      "text/plain": [
       "tensor([0.0000, 0.2500, 0.5000, 0.7500, 1.0000])"
      ]
     },
     "execution_count": 10,
     "metadata": {},
     "output_type": "execute_result"
    }
   ],
   "source": [
    "linspace = torch.linspace(0, 1, 5)\n",
    "linspace"
   ]
  },
  {
   "cell_type": "code",
   "execution_count": null,
   "id": "e617d586",
   "metadata": {},
   "outputs": [
    {
     "data": {
      "text/plain": [
       "tensor([[1., 0., 0., 0., 0.],\n",
       "        [0., 1., 0., 0., 0.],\n",
       "        [0., 0., 1., 0., 0.],\n",
       "        [0., 0., 0., 1., 0.],\n",
       "        [0., 0., 0., 0., 1.]])"
      ]
     },
     "execution_count": 11,
     "metadata": {},
     "output_type": "execute_result"
    }
   ],
   "source": [
    "eye = torch.eye(5) # Matriz identidade\n",
    "eye"
   ]
  },
  {
   "cell_type": "markdown",
   "id": "fae3a2af",
   "metadata": {},
   "source": [
    "### Torch Dtype Definitions"
   ]
  },
  {
   "cell_type": "code",
   "execution_count": null,
   "id": "86500fa6",
   "metadata": {},
   "outputs": [
    {
     "data": {
      "text/plain": [
       "(tensor([1., 9., 6.]), torch.float32)"
      ]
     },
     "execution_count": 22,
     "metadata": {},
     "output_type": "execute_result"
    }
   ],
   "source": [
    "# Mesmo adicionando o dtype como None, ainda assim, o pyTorch irá preencher os valores por padrão com torch.float32\n",
    "float_32 = torch.tensor([1.0, 9.0, 6.0], dtype=None)\n",
    "float_32, float_32.dtype"
   ]
  },
  {
   "cell_type": "code",
   "execution_count": null,
   "id": "cb9e49e2",
   "metadata": {},
   "outputs": [
    {
     "data": {
      "text/plain": [
       "(tensor([1., 2., 3., 4., 5., 6., 7., 8., 9.], dtype=torch.float16),\n",
       " torch.float16)"
      ]
     },
     "execution_count": 23,
     "metadata": {},
     "output_type": "execute_result"
    }
   ],
   "source": [
    "float_16 = torch.arange(1, 10, dtype=torch.float16)\n",
    "float_16, float_16.dtype"
   ]
  },
  {
   "cell_type": "code",
   "execution_count": 25,
   "id": "6ba95b39",
   "metadata": {},
   "outputs": [
    {
     "data": {
      "text/plain": [
       "(tensor([1., 9., 6.], dtype=torch.float16), torch.float16)"
      ]
     },
     "execution_count": 25,
     "metadata": {},
     "output_type": "execute_result"
    }
   ],
   "source": [
    "# You can change a tensor dtype using the code below\n",
    "float_16 = float_32.type(torch.float16)\n",
    "float_16, float_16.dtype"
   ]
  },
  {
   "cell_type": "markdown",
   "id": "f1c6cf19",
   "metadata": {},
   "source": [
    "## Tensor Attributes"
   ]
  },
  {
   "cell_type": "code",
   "execution_count": 14,
   "id": "69c70cf7",
   "metadata": {},
   "outputs": [
    {
     "data": {
      "text/plain": [
       "(torch.Size([3]), 1)"
      ]
     },
     "execution_count": 14,
     "metadata": {},
     "output_type": "execute_result"
    }
   ],
   "source": [
    "tensor = torch.tensor([1, 2, 3])\n",
    "tensor.shape, tensor.ndim"
   ]
  },
  {
   "cell_type": "markdown",
   "id": "cf9e357c",
   "metadata": {},
   "source": [
    "## Tensor Operations"
   ]
  },
  {
   "cell_type": "code",
   "execution_count": null,
   "id": "14c02cde",
   "metadata": {},
   "outputs": [],
   "source": [
    "a = torch.tensor([1, 2, 3]) # O tamanho dos tensores devem ser iguais para ser possível fazer operações\n",
    "b = torch.tensor([4, 5, 6])"
   ]
  },
  {
   "cell_type": "code",
   "execution_count": 21,
   "id": "4a0f852d",
   "metadata": {},
   "outputs": [
    {
     "name": "stdout",
     "output_type": "stream",
     "text": [
      "tensor([5, 7, 9])\n"
     ]
    }
   ],
   "source": [
    "add = a + b\n",
    "print(add)"
   ]
  },
  {
   "cell_type": "code",
   "execution_count": 17,
   "id": "6811d40a",
   "metadata": {},
   "outputs": [
    {
     "name": "stdout",
     "output_type": "stream",
     "text": [
      "tensor([-3, -3, -3])\n"
     ]
    }
   ],
   "source": [
    "sub = a - b\n",
    "print(sub)"
   ]
  },
  {
   "cell_type": "code",
   "execution_count": 22,
   "id": "d1e28972",
   "metadata": {},
   "outputs": [
    {
     "name": "stdout",
     "output_type": "stream",
     "text": [
      "tensor([ 4, 10, 18])\n"
     ]
    }
   ],
   "source": [
    "mul = a * b\n",
    "print(mul)"
   ]
  },
  {
   "cell_type": "code",
   "execution_count": 23,
   "id": "04b2c627",
   "metadata": {},
   "outputs": [
    {
     "name": "stdout",
     "output_type": "stream",
     "text": [
      "tensor([0.2500, 0.4000, 0.5000])\n"
     ]
    }
   ],
   "source": [
    "div = a / b\n",
    "print(div)"
   ]
  },
  {
   "cell_type": "code",
   "execution_count": 24,
   "id": "92441e36",
   "metadata": {},
   "outputs": [
    {
     "name": "stdout",
     "output_type": "stream",
     "text": [
      "tensor([  1,  32, 729])\n"
     ]
    }
   ],
   "source": [
    "pot = a ** b\n",
    "print(pot)"
   ]
  },
  {
   "cell_type": "markdown",
   "id": "177ecfab",
   "metadata": {},
   "source": [
    "### In_Place Operation\n",
    "É possível aplicar operações diversas operações inplace"
   ]
  },
  {
   "cell_type": "code",
   "execution_count": 26,
   "id": "abd76ae3",
   "metadata": {},
   "outputs": [],
   "source": [
    "x = torch.rand((3, 3))"
   ]
  },
  {
   "cell_type": "code",
   "execution_count": 27,
   "id": "20b32e97",
   "metadata": {},
   "outputs": [
    {
     "name": "stdout",
     "output_type": "stream",
     "text": [
      "tensor([[5.4874, 5.8602, 5.8195],\n",
      "        [5.2535, 5.8937, 5.8055],\n",
      "        [5.5125, 5.0493, 5.9172]])\n"
     ]
    }
   ],
   "source": [
    "print(x.add_(5))"
   ]
  },
  {
   "cell_type": "code",
   "execution_count": 30,
   "id": "43f282a1",
   "metadata": {},
   "outputs": [
    {
     "name": "stdout",
     "output_type": "stream",
     "text": [
      "tensor([[5.4874, 5.8602, 5.8195],\n",
      "        [5.2535, 5.8937, 5.8055],\n",
      "        [5.5125, 5.0493, 5.9172]])\n"
     ]
    }
   ],
   "source": [
    "print(x.abs_())"
   ]
  }
 ],
 "metadata": {
  "kernelspec": {
   "display_name": ".venv (3.12.3)",
   "language": "python",
   "name": "python3"
  },
  "language_info": {
   "codemirror_mode": {
    "name": "ipython",
    "version": 3
   },
   "file_extension": ".py",
   "mimetype": "text/x-python",
   "name": "python",
   "nbconvert_exporter": "python",
   "pygments_lexer": "ipython3",
   "version": "3.12.3"
  }
 },
 "nbformat": 4,
 "nbformat_minor": 5
}
