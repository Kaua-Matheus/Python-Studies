{
 "cells": [
  {
   "cell_type": "code",
   "execution_count": 1,
   "id": "45cbfb4b",
   "metadata": {},
   "outputs": [],
   "source": [
    "import torch"
   ]
  },
  {
   "cell_type": "markdown",
   "id": "b0c2939a",
   "metadata": {},
   "source": [
    "## Mexendo com GPU e dispositivos"
   ]
  },
  {
   "cell_type": "code",
   "execution_count": 3,
   "id": "bafa1ddd",
   "metadata": {},
   "outputs": [
    {
     "name": "stdout",
     "output_type": "stream",
     "text": [
      "CUDA Disponível: True\n",
      "Número de GPUs: 1\n"
     ]
    }
   ],
   "source": [
    "print(f\"CUDA Disponível: {torch.cuda.is_available()}\")\n",
    "print(f\"Número de GPUs: {torch.cuda.device_count()}\")"
   ]
  },
  {
   "cell_type": "code",
   "execution_count": 5,
   "id": "724cbdc9",
   "metadata": {},
   "outputs": [
    {
     "name": "stdout",
     "output_type": "stream",
     "text": [
      "NVIDIA GeForce GTX 1650\n"
     ]
    }
   ],
   "source": [
    "# Verificando qual é a placa de vídeo\n",
    "if torch.cuda.is_available():\n",
    "    print(f\"{torch.cuda.get_device_name(0)}\")"
   ]
  },
  {
   "cell_type": "markdown",
   "id": "0135a174",
   "metadata": {},
   "source": [
    "### Como selecionar a CUDA"
   ]
  },
  {
   "cell_type": "code",
   "execution_count": 10,
   "id": "bc014abc",
   "metadata": {},
   "outputs": [
    {
     "name": "stdout",
     "output_type": "stream",
     "text": [
      "Usando dispositivo: cuda\n"
     ]
    }
   ],
   "source": [
    "device = torch.device(\"cuda\" if torch.cuda.is_available() else \"cpu\")\n",
    "print(f\"Usando dispositivo: {device}\")"
   ]
  },
  {
   "cell_type": "code",
   "execution_count": 11,
   "id": "cff85535",
   "metadata": {},
   "outputs": [],
   "source": [
    "tensor = torch.rand(2, 3)"
   ]
  },
  {
   "cell_type": "code",
   "execution_count": null,
   "id": "27f308e7",
   "metadata": {},
   "outputs": [
    {
     "data": {
      "text/plain": [
       "device(type='cpu')"
      ]
     },
     "execution_count": 14,
     "metadata": {},
     "output_type": "execute_result"
    }
   ],
   "source": [
    "tensor.device # Checando em qual dispositivo está o tensor"
   ]
  },
  {
   "cell_type": "code",
   "execution_count": 19,
   "id": "a20c4ecd",
   "metadata": {},
   "outputs": [
    {
     "data": {
      "text/plain": [
       "device(type='cuda', index=0)"
      ]
     },
     "execution_count": 19,
     "metadata": {},
     "output_type": "execute_result"
    }
   ],
   "source": [
    "tensor = tensor.to(\"cuda\")\n",
    "tensor.device"
   ]
  },
  {
   "cell_type": "markdown",
   "id": "fd79ff57",
   "metadata": {},
   "source": [
    "### Arange"
   ]
  },
  {
   "cell_type": "code",
   "execution_count": 4,
   "id": "c8935753",
   "metadata": {},
   "outputs": [
    {
     "data": {
      "text/plain": [
       "tensor([ 1,  2,  3,  4,  5,  6,  7,  8,  9, 10])"
      ]
     },
     "execution_count": 4,
     "metadata": {},
     "output_type": "execute_result"
    }
   ],
   "source": [
    "arange_tensor = torch.arange(1, 11)\n",
    "arange_tensor"
   ]
  },
  {
   "cell_type": "code",
   "execution_count": 5,
   "id": "75ee3476",
   "metadata": {},
   "outputs": [
    {
     "data": {
      "text/plain": [
       "tensor([0, 0, 0, 0, 0, 0, 0, 0, 0, 0])"
      ]
     },
     "execution_count": 5,
     "metadata": {},
     "output_type": "execute_result"
    }
   ],
   "source": [
    "# tensor like\n",
    "zeros = torch.zeros_like(input=arange_tensor)\n",
    "zeros"
   ]
  },
  {
   "cell_type": "markdown",
   "id": "a095f3a5",
   "metadata": {},
   "source": [
    "## Multiplicação de Matrix\n"
   ]
  },
  {
   "cell_type": "markdown",
   "id": "96eb6808",
   "metadata": {},
   "source": [
    "Ao fazer uma multiplicação simples, de um conjunto de valores por um valor, como 2. Todo o conjunto de valores é multiplicado por 2.\\\n",
    "Essa é chamada de \"Multiplicação Escalar\""
   ]
  },
  {
   "cell_type": "code",
   "execution_count": 10,
   "id": "40bbb19d",
   "metadata": {},
   "outputs": [
    {
     "name": "stdout",
     "output_type": "stream",
     "text": [
      "Tensor normal: tensor([[1, 2, 3],\n",
      "        [2, 3, 4]])\n",
      "Tensor dobrado: tensor([[2, 4, 6],\n",
      "        [4, 6, 8]])\n"
     ]
    }
   ],
   "source": [
    "tensor = torch.tensor([[1, 2, 3], [2, 3, 4]])\n",
    "print(f\"Tensor normal: {tensor}\")\n",
    "print(f\"Tensor dobrado: {tensor * 2}\")"
   ]
  },
  {
   "cell_type": "markdown",
   "id": "63b277d7",
   "metadata": {},
   "source": [
    "Essa é a multiplicação de Matrizes multidimencionais, onde devemos utilizar o \"dot product\", onde, cada linha da primeira matrix e multimpliacada por cada coluna da segunda matrix.\n",
    "Fazer multiplicações usando o matmul é muito mais rápido do que fazer na \"mão\""
   ]
  },
  {
   "cell_type": "code",
   "execution_count": 16,
   "id": "a2468c04",
   "metadata": {},
   "outputs": [],
   "source": [
    "matrix_1 = torch.tensor([4, 6, 7])\n",
    "matrix_2 = torch.tensor([9, 0, 7])"
   ]
  },
  {
   "cell_type": "code",
   "execution_count": null,
   "id": "3a17f714",
   "metadata": {},
   "outputs": [
    {
     "data": {
      "text/plain": [
       "tensor(85)"
      ]
     },
     "execution_count": 18,
     "metadata": {},
     "output_type": "execute_result"
    }
   ],
   "source": [
    "# Multiplication using matmul\n",
    "torch.matmul(matrix_1, matrix_2)\n",
    "\n",
    "# It gonna take 252 microseconds"
   ]
  },
  {
   "cell_type": "code",
   "execution_count": null,
   "id": "6cc7bf91",
   "metadata": {},
   "outputs": [
    {
     "data": {
      "text/plain": [
       "tensor(85)"
      ]
     },
     "execution_count": 22,
     "metadata": {},
     "output_type": "execute_result"
    }
   ],
   "source": [
    "# Multiplication by hand\n",
    "matrix_1[0] * matrix_2[0] + matrix_1[1] * matrix_2[1] + matrix_1[2] * matrix_2[2]\n",
    "\n",
    "# It gonna take 1,95ms"
   ]
  },
  {
   "cell_type": "markdown",
   "id": "6712c1ce",
   "metadata": {},
   "source": [
    "### Some rules for matrix multiplication\n",
    "1. The __inner dimensions__ must match:\n",
    "* (2, 3) @ (2, 3) won't work\n",
    "* (3, 2) @ (2, 3) will work\n",
    "* (2, 3) @ (3, 2) will work\n",
    "\n",
    "2. The resulting matrix has the shape of the __outer dimensions__\n",
    "* (2, 3) @ (3, 2) -> (2, 2)\n",
    "* (3, 2) @ (2, 3) -> (3, 3)"
   ]
  },
  {
   "cell_type": "code",
   "execution_count": 28,
   "id": "e161eb49",
   "metadata": {},
   "outputs": [],
   "source": [
    "tensor_A = torch.tensor([\n",
    "    [4, 5,],\n",
    "    [7, 8],\n",
    "    [10, 11]])\n",
    "\n",
    "tensor_B = torch.tensor([\n",
    "    [3, 5],\n",
    "    [2, 8],\n",
    "    [1, 12]])"
   ]
  },
  {
   "cell_type": "code",
   "execution_count": 29,
   "id": "cddad809",
   "metadata": {},
   "outputs": [
    {
     "data": {
      "text/plain": [
       "(torch.Size([3, 2]), torch.Size([3, 2]))"
      ]
     },
     "execution_count": 29,
     "metadata": {},
     "output_type": "execute_result"
    }
   ],
   "source": [
    "tensor_A.shape, tensor_B.shape"
   ]
  },
  {
   "cell_type": "code",
   "execution_count": 31,
   "id": "b08e44ff",
   "metadata": {},
   "outputs": [
    {
     "ename": "RuntimeError",
     "evalue": "mat1 and mat2 shapes cannot be multiplied (3x2 and 3x2)",
     "output_type": "error",
     "traceback": [
      "\u001b[31m---------------------------------------------------------------------------\u001b[39m",
      "\u001b[31mRuntimeError\u001b[39m                              Traceback (most recent call last)",
      "\u001b[36mCell\u001b[39m\u001b[36m \u001b[39m\u001b[32mIn[31]\u001b[39m\u001b[32m, line 1\u001b[39m\n\u001b[32m----> \u001b[39m\u001b[32m1\u001b[39m \u001b[43mtorch\u001b[49m\u001b[43m.\u001b[49m\u001b[43mmm\u001b[49m\u001b[43m(\u001b[49m\u001b[43mtensor_A\u001b[49m\u001b[43m,\u001b[49m\u001b[43m \u001b[49m\u001b[43mtensor_B\u001b[49m\u001b[43m)\u001b[49m \u001b[38;5;66;03m# Não é possível multiplicar um (2, 3) por um (2, 3)\u001b[39;00m\n",
      "\u001b[31mRuntimeError\u001b[39m: mat1 and mat2 shapes cannot be multiplied (3x2 and 3x2)"
     ]
    }
   ],
   "source": [
    "torch.mm(tensor_A, tensor_B) # Não é possível multiplicar um (2, 3) por um (2, 3)"
   ]
  },
  {
   "cell_type": "code",
   "execution_count": 33,
   "id": "dc9ac9e9",
   "metadata": {},
   "outputs": [
    {
     "data": {
      "text/plain": [
       "tensor([[ 3,  5],\n",
       "        [ 2,  8],\n",
       "        [ 1, 12]])"
      ]
     },
     "execution_count": 33,
     "metadata": {},
     "output_type": "execute_result"
    }
   ],
   "source": [
    "# Usando o transpose é possível mudar o corpo de uma matriz\n",
    "tensor_B"
   ]
  },
  {
   "cell_type": "code",
   "execution_count": 34,
   "id": "76491d9a",
   "metadata": {},
   "outputs": [
    {
     "data": {
      "text/plain": [
       "tensor([[ 3,  2,  1],\n",
       "        [ 5,  8, 12]])"
      ]
     },
     "execution_count": 34,
     "metadata": {},
     "output_type": "execute_result"
    }
   ],
   "source": [
    "tensor_B.T"
   ]
  },
  {
   "cell_type": "code",
   "execution_count": 35,
   "id": "d08f5b8d",
   "metadata": {},
   "outputs": [
    {
     "data": {
      "text/plain": [
       "tensor([[ 37,  48,  64],\n",
       "        [ 61,  78, 103],\n",
       "        [ 85, 108, 142]])"
      ]
     },
     "execution_count": 35,
     "metadata": {},
     "output_type": "execute_result"
    }
   ],
   "source": [
    "torch.mm(tensor_A, tensor_B.T)"
   ]
  },
  {
   "cell_type": "markdown",
   "id": "76c2568d",
   "metadata": {},
   "source": [
    "## How find the position of the min and max"
   ]
  },
  {
   "cell_type": "code",
   "execution_count": 45,
   "id": "4bc3f8ee",
   "metadata": {},
   "outputs": [
    {
     "data": {
      "text/plain": [
       "tensor([80, 20,  0, 10, 30, 40, 50, 90, 60, 70])"
      ]
     },
     "execution_count": 45,
     "metadata": {},
     "output_type": "execute_result"
    }
   ],
   "source": [
    "tensor_1 = torch.tensor([ 80, 20, 0, 10, 30, 40, 50, 90, 60, 70])\n",
    "tensor_1"
   ]
  },
  {
   "cell_type": "code",
   "execution_count": null,
   "id": "bd5b11a8",
   "metadata": {},
   "outputs": [
    {
     "data": {
      "text/plain": [
       "tensor(2)"
      ]
     },
     "execution_count": 46,
     "metadata": {},
     "output_type": "execute_result"
    }
   ],
   "source": [
    "# Achando o argumento mínimo, ele está na posição 2\n",
    "tensor_1.argmin()"
   ]
  },
  {
   "cell_type": "code",
   "execution_count": null,
   "id": "cf45001a",
   "metadata": {},
   "outputs": [
    {
     "data": {
      "text/plain": [
       "tensor(7)"
      ]
     },
     "execution_count": 47,
     "metadata": {},
     "output_type": "execute_result"
    }
   ],
   "source": [
    "# Achando o argumento máximo, ele está na posição 7\n",
    "tensor_1.argmax()"
   ]
  },
  {
   "cell_type": "code",
   "execution_count": null,
   "id": "2b59c7e5",
   "metadata": {},
   "outputs": [
    {
     "data": {
      "text/plain": [
       "tensor([2, 3, 1, 4, 5, 6, 8, 9, 0, 7])"
      ]
     },
     "execution_count": 48,
     "metadata": {},
     "output_type": "execute_result"
    }
   ],
   "source": [
    "# O método argsort retona os indices do tensor ordenados pela forma crescente\n",
    "tensor_1.argsort()"
   ]
  },
  {
   "cell_type": "code",
   "execution_count": null,
   "id": "bbdfbae7",
   "metadata": {},
   "outputs": [
    {
     "data": {
      "text/plain": [
       "tensor([0, 7, 8, 9])"
      ]
     },
     "execution_count": 58,
     "metadata": {},
     "output_type": "execute_result"
    }
   ],
   "source": [
    "# Identifica posicionalmente no tensor onde estão os valores maiores do que 50\n",
    "torch.argwhere(tensor_1 > 50).reshape(4) # Usei reshape para deixar mais interpretável"
   ]
  },
  {
   "cell_type": "markdown",
   "id": "125ea206",
   "metadata": {},
   "source": [
    "## Reshaping, stacking, squeezing and unsqueezing\n",
    "* Reshaping - Transforms a tensor to the form wanted.\n",
    "* View - Return a view of an input tensor of certain shape but keep the same memory as the original tensor.\n",
    "* Stacking - Combine multiple tensors on top of each other (vstack) or side by side (hstack)\n",
    "* Squeeze - remove all `1` dimensions from a tensor\n",
    "* Unsqueeze - add a `1` dimensions to a target tensor\n",
    "* Permute - Return a view of the input with dimensions permuted (swapped) in a certain way"
   ]
  },
  {
   "cell_type": "code",
   "execution_count": 75,
   "id": "0910d476",
   "metadata": {},
   "outputs": [
    {
     "data": {
      "text/plain": [
       "tensor([ 1,  2,  3,  4,  5,  6,  7,  8,  9, 10])"
      ]
     },
     "execution_count": 75,
     "metadata": {},
     "output_type": "execute_result"
    }
   ],
   "source": [
    "x = torch.arange(1, 11)\n",
    "x"
   ]
  },
  {
   "cell_type": "code",
   "execution_count": 62,
   "id": "f3559d9b",
   "metadata": {},
   "outputs": [
    {
     "data": {
      "text/plain": [
       "tensor([[ 1],\n",
       "        [ 2],\n",
       "        [ 3],\n",
       "        [ 4],\n",
       "        [ 5],\n",
       "        [ 6],\n",
       "        [ 7],\n",
       "        [ 8],\n",
       "        [ 9],\n",
       "        [10]])"
      ]
     },
     "execution_count": 62,
     "metadata": {},
     "output_type": "execute_result"
    }
   ],
   "source": [
    "# Add extra dim\n",
    "x_reshaped = x.reshape(10, 1) \n",
    "x_reshaped"
   ]
  },
  {
   "cell_type": "code",
   "execution_count": 71,
   "id": "7ec0eefe",
   "metadata": {},
   "outputs": [
    {
     "name": "stdout",
     "output_type": "stream",
     "text": [
      "Reshape 1: \n",
      "tensor([[ 1,  2,  3,  4,  5],\n",
      "        [ 6,  7,  8,  9, 10]])\n",
      "\n",
      "Reshape 2: \n",
      "tensor([[ 1,  2],\n",
      "        [ 3,  4],\n",
      "        [ 5,  6],\n",
      "        [ 7,  8],\n",
      "        [ 9, 10]])\n"
     ]
    }
   ],
   "source": [
    "# A quantidade para reshape deve ser compatível com a quantidade de termos, ex: 5 * 2 = 10\n",
    "print(f\"Reshape 1: \\n{x.reshape(2, 5)}\\n\")\n",
    "print(f\"Reshape 2: \\n{x.reshape(5, 2)}\")"
   ]
  },
  {
   "cell_type": "code",
   "execution_count": 76,
   "id": "d703b27a",
   "metadata": {},
   "outputs": [
    {
     "data": {
      "text/plain": [
       "(tensor([[ 1,  2,  3,  4,  5,  6,  7,  8,  9, 10]]), torch.Size([1, 10]))"
      ]
     },
     "execution_count": 76,
     "metadata": {},
     "output_type": "execute_result"
    }
   ],
   "source": [
    "z = x.view(1, 10)\n",
    "z, z.shape"
   ]
  },
  {
   "cell_type": "code",
   "execution_count": null,
   "id": "1b22b65c",
   "metadata": {},
   "outputs": [
    {
     "data": {
      "text/plain": [
       "(tensor([[ 5,  2,  3,  4,  5,  6,  7,  8,  9, 10]]),\n",
       " tensor([ 5,  2,  3,  4,  5,  6,  7,  8,  9, 10]))"
      ]
     },
     "execution_count": 78,
     "metadata": {},
     "output_type": "execute_result"
    }
   ],
   "source": [
    "# Ao alterar a view, também é alterada o tensor original\n",
    "z[:, 0] = 5\n",
    "z, x"
   ]
  },
  {
   "cell_type": "code",
   "execution_count": 85,
   "id": "57ed7718",
   "metadata": {},
   "outputs": [
    {
     "data": {
      "text/plain": [
       "tensor([[ 5,  5,  5,  5],\n",
       "        [ 2,  2,  2,  2],\n",
       "        [ 3,  3,  3,  3],\n",
       "        [ 4,  4,  4,  4],\n",
       "        [ 5,  5,  5,  5],\n",
       "        [ 6,  6,  6,  6],\n",
       "        [ 7,  7,  7,  7],\n",
       "        [ 8,  8,  8,  8],\n",
       "        [ 9,  9,  9,  9],\n",
       "        [10, 10, 10, 10]])"
      ]
     },
     "execution_count": 85,
     "metadata": {},
     "output_type": "execute_result"
    }
   ],
   "source": [
    "# Stacj tensor on top of each other\n",
    "x_stacked = torch.stack([x, x, x, x], dim=1)\n",
    "x_stacked"
   ]
  },
  {
   "cell_type": "code",
   "execution_count": 101,
   "id": "910db493",
   "metadata": {},
   "outputs": [
    {
     "data": {
      "text/plain": [
       "(torch.Size([3, 1]), 2)"
      ]
     },
     "execution_count": 101,
     "metadata": {},
     "output_type": "execute_result"
    }
   ],
   "source": [
    "y = torch.zeros(3, 1)\n",
    "y.shape, y.ndim"
   ]
  },
  {
   "cell_type": "code",
   "execution_count": null,
   "id": "2bc33bbc",
   "metadata": {},
   "outputs": [
    {
     "data": {
      "text/plain": [
       "(torch.Size([3]), 1)"
      ]
     },
     "execution_count": 103,
     "metadata": {},
     "output_type": "execute_result"
    }
   ],
   "source": [
    "# Romove todas as dimenções com apenas uma dimensão\n",
    "y_squeezed = torch.squeeze(y)\n",
    "y_squeezed.shape, y_squeezed.ndim"
   ]
  },
  {
   "cell_type": "code",
   "execution_count": null,
   "id": "8c3c974e",
   "metadata": {},
   "outputs": [
    {
     "data": {
      "text/plain": [
       "(torch.Size([3, 1]), 2)"
      ]
     },
     "execution_count": 113,
     "metadata": {},
     "output_type": "execute_result"
    }
   ],
   "source": [
    "# Adiciona dimeções\n",
    "y_pos_squeezed = y_squeezed.unsqueeze(dim=1)\n",
    "y_pos_squeezed.shape, y_pos_squeezed.ndim"
   ]
  },
  {
   "cell_type": "code",
   "execution_count": 114,
   "id": "162611eb",
   "metadata": {},
   "outputs": [
    {
     "data": {
      "text/plain": [
       "tensor([[0.],\n",
       "        [0.],\n",
       "        [0.]])"
      ]
     },
     "execution_count": 114,
     "metadata": {},
     "output_type": "execute_result"
    }
   ],
   "source": [
    "y_pos_squeezed"
   ]
  },
  {
   "cell_type": "code",
   "execution_count": 117,
   "id": "04a2fcc3",
   "metadata": {},
   "outputs": [
    {
     "data": {
      "text/plain": [
       "torch.Size([224, 224, 3])"
      ]
     },
     "execution_count": 117,
     "metadata": {},
     "output_type": "execute_result"
    }
   ],
   "source": [
    "# torch.permute\n",
    "original_image = torch.rand(size=(224, 224, 3))\n",
    "original_image.shape"
   ]
  },
  {
   "cell_type": "code",
   "execution_count": null,
   "id": "56e3b453",
   "metadata": {},
   "outputs": [
    {
     "name": "stdout",
     "output_type": "stream",
     "text": [
      "Shape anterior: torch.Size([224, 224, 3])\n",
      "Shape atual: torch.Size([3, 224, 224])\n"
     ]
    }
   ],
   "source": [
    "# Com o permuted é possível fazer uma alteração da ordem do corpo do tensor\n",
    "permuted_image = original_image.permute(2, 0, 1)\n",
    "\n",
    "print(f\"Shape anterior: {original_image.shape}\")\n",
    "print(f\"Shape atual: {permuted_image.shape}\")"
   ]
  },
  {
   "cell_type": "code",
   "execution_count": null,
   "id": "9a5edd18",
   "metadata": {},
   "outputs": [
    {
     "name": "stdout",
     "output_type": "stream",
     "text": [
      "Valor original: 5.0\n",
      "Valor permutado: 5.0\n"
     ]
    }
   ],
   "source": [
    "# O valor muda para as duas variáveis, pois permuted é uma view, então ela compartilha a mesma memória que a variável original.\n",
    "\n",
    "original_image[0, 0, 0] = 5\n",
    "print(f\"Valor original: {original_image[0, 0, 0]}\")\n",
    "print(f\"Valor permutado: {permuted_image[0, 0, 0]}\")"
   ]
  },
  {
   "cell_type": "markdown",
   "id": "61b55298",
   "metadata": {},
   "source": [
    "## Pytorch Seed\n",
    "It's possible define the actually seed for randomness"
   ]
  },
  {
   "cell_type": "code",
   "execution_count": null,
   "id": "7a645b2d",
   "metadata": {},
   "outputs": [],
   "source": [
    "# Note que para setar o uma seed manual é necessário fazer isso para cada vez em que quiser usar, quase como um encapsulamento\n",
    "\n",
    "RANDOM_SEED = 42\n",
    "\n",
    "torch.manual_seed(RANDOM_SEED)\n",
    "x_tensor = torch.rand(2, 3)\n",
    "\n",
    "torch.manual_seed(RANDOM_SEED)\n",
    "y_tensor = torch.rand(2, 3)"
   ]
  },
  {
   "cell_type": "code",
   "execution_count": 124,
   "id": "8d31b33a",
   "metadata": {},
   "outputs": [
    {
     "data": {
      "text/plain": [
       "(tensor([[0.8823, 0.9150, 0.3829],\n",
       "         [0.9593, 0.3904, 0.6009]]),\n",
       " tensor([[0.8823, 0.9150, 0.3829],\n",
       "         [0.9593, 0.3904, 0.6009]]),\n",
       " tensor([[True, True, True],\n",
       "         [True, True, True]]))"
      ]
     },
     "execution_count": 124,
     "metadata": {},
     "output_type": "execute_result"
    }
   ],
   "source": [
    "x_tensor, y_tensor, x_tensor == y_tensor"
   ]
  }
 ],
 "metadata": {
  "kernelspec": {
   "display_name": ".venv (3.12.3)",
   "language": "python",
   "name": "python3"
  },
  "language_info": {
   "codemirror_mode": {
    "name": "ipython",
    "version": 3
   },
   "file_extension": ".py",
   "mimetype": "text/x-python",
   "name": "python",
   "nbconvert_exporter": "python",
   "pygments_lexer": "ipython3",
   "version": "3.12.3"
  }
 },
 "nbformat": 4,
 "nbformat_minor": 5
}
