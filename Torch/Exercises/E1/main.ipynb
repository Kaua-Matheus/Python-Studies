{
 "cells": [
  {
   "cell_type": "markdown",
   "id": "b0bb4d55",
   "metadata": {},
   "source": [
    "## Start\n",
    "1. Create a random tensor with shape (7, 7).\n",
    "2. Perform a matrix multiplication on the tensor from 2 with another random tensor with shape (1, 7) (hint: you may have to transpose the second tensor).\n",
    "3. Set the random seed to 0 and do exercises 2 & 3 over again.\n",
    "4. Speaking of random seeds, we saw how to set it with torch.manual_seed() but is there a GPU equivalent? (hint: you'll need to look into the documentation for torch.cuda for this one). If there is, set the GPU random seed to 1234.\n",
    "5. Create two random tensors of shape (2, 3) and send them both to the GPU (you'll need access to a GPU for this). Set torch.manual_seed(1234) when creating the tensors (this doesn't have to be the GPU random seed).\n",
    "6. Perform a matrix multiplication on the tensors you created in 6 (again, you may have to adjust the shapes of one of the tensors).\n",
    "7. Find the maximum and minimum values of the output of 7.\n",
    "8. Find the maximum and minimum index values of the output of 7.\n",
    "9. Make a random tensor with shape (1, 1, 1, 10) and then create a new tensor with all the 1 dimensions removed to be left with a tensor of shape (10). Set the seed to 7 when you create it and print out the first tensor and it's shape as well as the second tensor and it's shape."
   ]
  },
  {
   "cell_type": "code",
   "execution_count": 1,
   "id": "a6f4bcf4",
   "metadata": {},
   "outputs": [
    {
     "name": "stderr",
     "output_type": "stream",
     "text": [
      "/home/operador/Documentos/Estudos/Projetos/Python Studies/.venv/lib/python3.12/site-packages/torch/cuda/__init__.py:63: FutureWarning: The pynvml package is deprecated. Please install nvidia-ml-py instead. If you did not install pynvml directly, please report this to the maintainers of the package that installed pynvml for you.\n",
      "  import pynvml  # type: ignore[import]\n"
     ]
    }
   ],
   "source": [
    "import torch"
   ]
  },
  {
   "cell_type": "code",
   "execution_count": 2,
   "id": "4a114e21",
   "metadata": {},
   "outputs": [
    {
     "data": {
      "text/plain": [
       "tensor([[0.3247, 0.0089, 0.3598, 0.7327, 0.4549, 0.6244, 0.0171],\n",
       "        [0.7747, 0.9023, 0.2214, 0.8028, 0.8688, 0.3534, 0.7255],\n",
       "        [0.4066, 0.3790, 0.1535, 0.3382, 0.9798, 0.5889, 0.0480],\n",
       "        [0.3014, 0.6903, 0.0088, 0.6476, 0.9413, 0.7330, 0.8606],\n",
       "        [0.8336, 0.1300, 0.7011, 0.1578, 0.4145, 0.7679, 0.1380],\n",
       "        [0.3793, 0.7371, 0.2789, 0.9685, 0.9319, 0.2534, 0.5885],\n",
       "        [0.4298, 0.2411, 0.1429, 0.8496, 0.6172, 0.0295, 0.0195]])"
      ]
     },
     "execution_count": 2,
     "metadata": {},
     "output_type": "execute_result"
    }
   ],
   "source": [
    "# 1. Create a random tensor with shape (7, 7).\n",
    "tensor = torch.rand(7, 7)\n",
    "tensor"
   ]
  },
  {
   "cell_type": "code",
   "execution_count": 25,
   "id": "cfee390d",
   "metadata": {},
   "outputs": [],
   "source": [
    "# 2. Perform a matrix multiplication on the tensor from 2 with another random tensor with shape (1, 7) (hint: you may have to transpose the second tensor).\n",
    "tensor_A = torch.rand(7, 7)\n",
    "tensor_B = torch.rand(1, 7)"
   ]
  },
  {
   "cell_type": "code",
   "execution_count": 28,
   "id": "95cee971",
   "metadata": {},
   "outputs": [
    {
     "data": {
      "text/plain": [
       "tensor([[1.6839],\n",
       "        [1.5681],\n",
       "        [1.3070],\n",
       "        [1.7494],\n",
       "        [1.5548],\n",
       "        [0.8173],\n",
       "        [1.2174]])"
      ]
     },
     "execution_count": 28,
     "metadata": {},
     "output_type": "execute_result"
    }
   ],
   "source": [
    "tensor_final = torch.mm(tensor_A, tensor_B.T)\n",
    "tensor_final"
   ]
  },
  {
   "cell_type": "code",
   "execution_count": 101,
   "id": "1250a540",
   "metadata": {},
   "outputs": [],
   "source": [
    "# 3. Set the random seed to 0 and do exercises 2 & 3 over again.\n",
    "SEED = 0\n",
    "\n",
    "torch.manual_seed(SEED)\n",
    "tensor_A = torch.rand(7, 7)\n",
    "tensor_B = torch.rand(1, 7)"
   ]
  },
  {
   "cell_type": "code",
   "execution_count": 102,
   "id": "a47feec8",
   "metadata": {},
   "outputs": [
    {
     "data": {
      "text/plain": [
       "tensor([[1.8542],\n",
       "        [1.9611],\n",
       "        [2.2884],\n",
       "        [3.0481],\n",
       "        [1.7067],\n",
       "        [2.5290],\n",
       "        [1.7989]])"
      ]
     },
     "execution_count": 102,
     "metadata": {},
     "output_type": "execute_result"
    }
   ],
   "source": [
    "tensor_final = torch.mm(tensor_A, tensor_B.T)\n",
    "tensor_final"
   ]
  },
  {
   "cell_type": "code",
   "execution_count": 98,
   "id": "37f2f2ad",
   "metadata": {},
   "outputs": [
    {
     "data": {
      "text/plain": [
       "tensor([[1.4904],\n",
       "        [2.1532],\n",
       "        [2.0529],\n",
       "        [1.9964],\n",
       "        [1.5254],\n",
       "        [2.2362],\n",
       "        [2.9596]])"
      ]
     },
     "execution_count": 98,
     "metadata": {},
     "output_type": "execute_result"
    }
   ],
   "source": [
    "# 4. Speaking of random seeds, we saw how to set it with torch.manual_seed() but is there a GPU equivalent?\n",
    "# (hint: you'll need to look into the documentation for torch.cuda for this one). \n",
    "# If there is, set the GPU random seed to 1234.\n",
    "\n",
    "SEED = 1234\n",
    "\n",
    "# Manipulando a seed diretamente no CUDA ao invés de ser no torch.\n",
    "torch.cuda.manual_seed(SEED)\n",
    "tensor_A = torch.rand(7, 7)\n",
    "tensor_B = torch.rand(1, 7)\n",
    "\n",
    "tensor_final = torch.mm(tensor_A, tensor_B.T)\n",
    "tensor_final"
   ]
  },
  {
   "cell_type": "code",
   "execution_count": null,
   "id": "3b5bf656",
   "metadata": {},
   "outputs": [
    {
     "data": {
      "text/plain": [
       "(tensor([[0.0290, 0.4019, 0.2598],\n",
       "         [0.3666, 0.0583, 0.7006]]),\n",
       " tensor([[0.0290, 0.4019, 0.2598],\n",
       "         [0.3666, 0.0583, 0.7006]]),\n",
       " tensor([[True, True, True],\n",
       "         [True, True, True]]))"
      ]
     },
     "execution_count": 115,
     "metadata": {},
     "output_type": "execute_result"
    }
   ],
   "source": [
    "# 5. Create two random tensors of shape (2, 3) and send them both to the GPU (you'll need access to a GPU for this). \n",
    "# Set torch.manual_seed(1234) when creating the tensors (this doesn't have to be the GPU random seed).\n",
    "\n",
    "# Para os tensores serem os mesmos, deve-se definir isso antes de setar o tensor!\n",
    "torch.manual_seed(1234)\n",
    "tensor_A = torch.rand(2, 3)\n",
    "\n",
    "torch.manual_seed(1234)\n",
    "tensor_B = torch.rand(2, 3)\n",
    "\n",
    "# Tensores iguais!\n",
    "tensor_A, tensor_B, tensor_A == tensor_B"
   ]
  },
  {
   "cell_type": "code",
   "execution_count": 125,
   "id": "eaa50df6",
   "metadata": {},
   "outputs": [
    {
     "data": {
      "text/plain": [
       "tensor([[0.2299, 0.2161],\n",
       "        [0.2161, 0.6287]])"
      ]
     },
     "execution_count": 125,
     "metadata": {},
     "output_type": "execute_result"
    }
   ],
   "source": [
    "# 6. Perform a matrix multiplication on the tensors you created in 6 (again, you may have to adjust the shapes of one of the tensors).\n",
    "output = torch.mm(tensor_A, tensor_B.T)\n",
    "output"
   ]
  },
  {
   "cell_type": "code",
   "execution_count": 126,
   "id": "be26ce2a",
   "metadata": {},
   "outputs": [
    {
     "name": "stdout",
     "output_type": "stream",
     "text": [
      "\n",
      "    Min: 0.21611443161964417\n",
      "    Min: 0.628727912902832\n",
      "\n"
     ]
    }
   ],
   "source": [
    "# 7. Find the maximum and minimum values of the output of 7.\n",
    "print(f\"\"\"\n",
    "    Min: {output.min()}\n",
    "    Min: {output.max()}\n",
    "\"\"\")"
   ]
  },
  {
   "cell_type": "code",
   "execution_count": 127,
   "id": "abb42450",
   "metadata": {},
   "outputs": [
    {
     "name": "stdout",
     "output_type": "stream",
     "text": [
      "\n",
      "    Min: 1\n",
      "    Min: 3\n",
      "\n"
     ]
    },
    {
     "data": {
      "text/plain": [
       "(tensor(0.2161), tensor(0.6287))"
      ]
     },
     "execution_count": 127,
     "metadata": {},
     "output_type": "execute_result"
    }
   ],
   "source": [
    "# 8. Find the maximum and minimum index values of the output of 7.\n",
    "print(f\"\"\"\n",
    "    Min: {output.argmin()}\n",
    "    Min: {output.argmax()}\n",
    "\"\"\")\n",
    "\n",
    "# O resutado de argmin ou argmax vem como um indice em flatten!\n",
    "output = output.flatten()\n",
    "output[1], output[3]"
   ]
  },
  {
   "cell_type": "code",
   "execution_count": 129,
   "id": "1c445110",
   "metadata": {},
   "outputs": [],
   "source": [
    "# 9. Make a random tensor with shape (1, 1, 1, 10) and then create a new tensor with all the 1 dimensions removed \n",
    "# to be left with a tensor of shape (10). Set the seed to 7 when you create it and \n",
    "# print out the first tensor and it's shape as well as the second tensor and it's shape.\n",
    "\n",
    "torch.cuda.manual_seed(7)\n",
    "rand_tensor = torch.rand(1, 1, 1, 10)\n",
    "formatted_tensor = torch.squeeze(rand_tensor)"
   ]
  },
  {
   "cell_type": "code",
   "execution_count": 130,
   "id": "2d34ce97",
   "metadata": {},
   "outputs": [
    {
     "data": {
      "text/plain": [
       "(tensor([[[[0.2837, 0.6567, 0.2388, 0.7313, 0.6012, 0.3043, 0.2548, 0.6294,\n",
       "            0.9665, 0.7399]]]]),\n",
       " torch.Size([1, 1, 1, 10]))"
      ]
     },
     "execution_count": 130,
     "metadata": {},
     "output_type": "execute_result"
    }
   ],
   "source": [
    "rand_tensor, rand_tensor.shape"
   ]
  },
  {
   "cell_type": "code",
   "execution_count": 131,
   "id": "df8ea9f3",
   "metadata": {},
   "outputs": [
    {
     "data": {
      "text/plain": [
       "(tensor([0.2837, 0.6567, 0.2388, 0.7313, 0.6012, 0.3043, 0.2548, 0.6294, 0.9665,\n",
       "         0.7399]),\n",
       " torch.Size([10]))"
      ]
     },
     "execution_count": 131,
     "metadata": {},
     "output_type": "execute_result"
    }
   ],
   "source": [
    "formatted_tensor, formatted_tensor.shape"
   ]
  }
 ],
 "metadata": {
  "kernelspec": {
   "display_name": ".venv (3.12.3)",
   "language": "python",
   "name": "python3"
  },
  "language_info": {
   "codemirror_mode": {
    "name": "ipython",
    "version": 3
   },
   "file_extension": ".py",
   "mimetype": "text/x-python",
   "name": "python",
   "nbconvert_exporter": "python",
   "pygments_lexer": "ipython3",
   "version": "3.12.3"
  }
 },
 "nbformat": 4,
 "nbformat_minor": 5
}
