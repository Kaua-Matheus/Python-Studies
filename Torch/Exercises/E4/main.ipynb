{
 "cells": [
  {
   "cell_type": "markdown",
   "id": "02a62d74",
   "metadata": {},
   "source": [
    "# Como rodar tensores e pytorh objects na GPU"
   ]
  },
  {
   "cell_type": "code",
   "execution_count": null,
   "id": "3478d861",
   "metadata": {},
   "outputs": [],
   "source": [
    "import torch"
   ]
  }
 ],
 "metadata": {
  "kernelspec": {
   "display_name": ".venv (3.12.3)",
   "language": "python",
   "name": "python3"
  },
  "language_info": {
   "name": "python",
   "version": "3.12.3"
  }
 },
 "nbformat": 4,
 "nbformat_minor": 5
}
