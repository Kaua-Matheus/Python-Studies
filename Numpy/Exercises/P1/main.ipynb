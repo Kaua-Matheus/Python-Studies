{
 "cells": [
  {
   "cell_type": "markdown",
   "id": "5f0f54cf",
   "metadata": {},
   "source": [
    "# Início\n",
    "Esse código é voltado para realizar experiências dentros das bibliotecas python de manipulação de dados e outras funcionalidades."
   ]
  },
  {
   "cell_type": "code",
   "execution_count": 1,
   "id": "0aaa07d4",
   "metadata": {},
   "outputs": [],
   "source": [
    "import pandas as pd\n",
    "import numpy as np\n",
    "import json"
   ]
  },
  {
   "cell_type": "markdown",
   "id": "6cf3738e",
   "metadata": {},
   "source": [
    "## Estudos Numpy\n",
    "Código voltado para o estudo do numpy e suas funcionalidades"
   ]
  },
  {
   "cell_type": "markdown",
   "id": "6adc4b1a",
   "metadata": {},
   "source": [
    "### Criação de Arrays\n",
    "Existem diversas maneiras de criar arrays ou matrizes em numpy, cada uma possui uma utilidade especifica e seu próprio caso de uso, por conta disso, é interessante saber para o que serve cada tipo de função.\n",
    "Note que o numpy é extremamente voltado para o desempenho e otimização, nota-se que o numpy é muito utilizado para cálculos de matrizes, modelos inteligentes e outras aplicações voltadas a matemática."
   ]
  },
  {
   "cell_type": "code",
   "execution_count": 2,
   "id": "612eace7",
   "metadata": {},
   "outputs": [],
   "source": [
    "# Array básico\n",
    "a1 = np.array([1, 2, 3])\n",
    "\n",
    "# Matriz\n",
    "a2 = np.array([[1, 2, 3], [2, 4, 6]])"
   ]
  },
  {
   "cell_type": "code",
   "execution_count": 3,
   "id": "712983d6",
   "metadata": {},
   "outputs": [
    {
     "name": "stdout",
     "output_type": "stream",
     "text": [
      "[1 2 3]\n",
      "[1 2]\n",
      "3\n"
     ]
    }
   ],
   "source": [
    "# Pode-se manipular os arrays do numpy exatamente como no python normal\n",
    "print(a1)\n",
    "print(a1[0:2])\n",
    "print(a1[2])"
   ]
  },
  {
   "cell_type": "code",
   "execution_count": 4,
   "id": "f48bed77",
   "metadata": {},
   "outputs": [
    {
     "name": "stdout",
     "output_type": "stream",
     "text": [
      "[[1 2 3]\n",
      " [2 4 6]] \n",
      "\n",
      "[[1 2 3]\n",
      " [2 4 6]] \n",
      "\n",
      "[2 4] \n",
      "\n"
     ]
    }
   ],
   "source": [
    "print(a2, \"\\n\")\n",
    "print(a2[0:2], \"\\n\")\n",
    "print(a2[1][0:2], \"\\n\")"
   ]
  },
  {
   "cell_type": "code",
   "execution_count": null,
   "id": "63204f59",
   "metadata": {},
   "outputs": [
    {
     "data": {
      "text/plain": [
       "array([[0., 0., 0.],\n",
       "       [0., 0., 0.],\n",
       "       [0., 0., 0.]])"
      ]
     },
     "execution_count": 5,
     "metadata": {},
     "output_type": "execute_result"
    }
   ],
   "source": [
    "# .zeros() cria uma matriz em somente com zeros\n",
    "np.zeros((3, 3))"
   ]
  },
  {
   "cell_type": "code",
   "execution_count": null,
   "id": "59dcaf7e",
   "metadata": {},
   "outputs": [
    {
     "data": {
      "text/plain": [
       "array([[1., 1., 1.],\n",
       "       [1., 1., 1.],\n",
       "       [1., 1., 1.]])"
      ]
     },
     "execution_count": 6,
     "metadata": {},
     "output_type": "execute_result"
    }
   ],
   "source": [
    "# .ones() cria uma matriz em somente com uns\n",
    "np.ones((3, 3))"
   ]
  },
  {
   "cell_type": "code",
   "execution_count": 19,
   "id": "7b17f4ff",
   "metadata": {},
   "outputs": [
    {
     "name": "stdout",
     "output_type": "stream",
     "text": [
      "[[10 10 10]\n",
      " [10 10 10]\n",
      " [10 10 10]]\n",
      "[2 2 2]\n"
     ]
    }
   ],
   "source": [
    "# .full() cria uma matriz somente com os valores passados no parâmetro\n",
    "print(np.full((3, 3), 10))\n",
    "print(np.full((3,), 2))"
   ]
  },
  {
   "cell_type": "code",
   "execution_count": null,
   "id": "cdbc6329",
   "metadata": {},
   "outputs": [
    {
     "data": {
      "text/plain": [
       "array([[1., 0., 0.],\n",
       "       [0., 1., 0.],\n",
       "       [0., 0., 1.]])"
      ]
     },
     "execution_count": 8,
     "metadata": {},
     "output_type": "execute_result"
    }
   ],
   "source": [
    "# .eye() cria uma matriz identidade\n",
    "np.eye(3)"
   ]
  },
  {
   "cell_type": "code",
   "execution_count": null,
   "id": "dcdc09ab",
   "metadata": {},
   "outputs": [
    {
     "name": "stdout",
     "output_type": "stream",
     "text": [
      "[10 15 20 25 30 35 40 45 50 55 60 65 70 75 80 85 90 95]\n",
      "[ 10  15  20  25  30  35  40  45  50  55  60  65  70  75  80  85  90  95\n",
      " 100]\n",
      "[ 0 -1 -2 -3 -4]\n"
     ]
    }
   ],
   "source": [
    "# arange() cria uma matriz de valores onde é passado um início, fim e passo\n",
    "# Note que é mesmo valores incoerêntes irão resultar em um valor arredondado.\n",
    "# Para valores negatuvos, é interessante perceber que o passo deve estar negativo também.\n",
    "print(\n",
    "    np.arange(10, 100, 5)\n",
    "    )\n",
    "print(\n",
    "    np.arange(10, 101, 5)\n",
    "    )\n",
    "print(\n",
    "    np.arange(0, -5, -1)\n",
    "    )"
   ]
  },
  {
   "cell_type": "code",
   "execution_count": null,
   "id": "9a03fac1",
   "metadata": {},
   "outputs": [
    {
     "data": {
      "text/plain": [
       "array([0.  , 0.25, 0.5 , 0.75, 1.  ])"
      ]
     },
     "execution_count": 10,
     "metadata": {},
     "output_type": "execute_result"
    }
   ],
   "source": [
    "# .linspace() cria uma matriz com os valores de ínicio (0) e fim (1) e a faixa de valores que estão dentre esses valores\n",
    "np.linspace(0, 1, 5)"
   ]
  },
  {
   "cell_type": "code",
   "execution_count": 22,
   "id": "1e6b291a",
   "metadata": {},
   "outputs": [
    {
     "data": {
      "text/plain": [
       "array([[4.89977828e-315, 6.89033253e-310, 8.93700357e+165],\n",
       "       [3.29647219e-032, 1.39425663e+165, 1.08607281e-042],\n",
       "       [2.62243084e+180, 1.00406537e-042, 1.27930850e+165]])"
      ]
     },
     "execution_count": 22,
     "metadata": {},
     "output_type": "execute_result"
    }
   ],
   "source": [
    "np.empty((3, 3))"
   ]
  },
  {
   "cell_type": "markdown",
   "id": "0254da55",
   "metadata": {},
   "source": [
    "### Visualização de Arrays\n"
   ]
  },
  {
   "cell_type": "code",
   "execution_count": 67,
   "id": "f76a4614",
   "metadata": {},
   "outputs": [],
   "source": [
    "ar = np.random.rand(3, 3)"
   ]
  },
  {
   "cell_type": "code",
   "execution_count": 68,
   "id": "3f074f83",
   "metadata": {},
   "outputs": [
    {
     "data": {
      "text/plain": [
       "array([[0.73925468, 0.84634589, 0.89243136],\n",
       "       [0.55979756, 0.1478793 , 0.11324153],\n",
       "       [0.51144821, 0.11471659, 0.15138464]])"
      ]
     },
     "execution_count": 68,
     "metadata": {},
     "output_type": "execute_result"
    }
   ],
   "source": [
    "ar"
   ]
  },
  {
   "cell_type": "code",
   "execution_count": 69,
   "id": "41a35647",
   "metadata": {},
   "outputs": [
    {
     "data": {
      "text/plain": [
       "array([[False, False, False],\n",
       "       [False,  True,  True],\n",
       "       [False,  True,  True]])"
      ]
     },
     "execution_count": 69,
     "metadata": {},
     "output_type": "execute_result"
    }
   ],
   "source": [
    "ar <= 0.5"
   ]
  },
  {
   "cell_type": "code",
   "execution_count": 71,
   "id": "2af9bf74",
   "metadata": {},
   "outputs": [
    {
     "data": {
      "text/plain": [
       "array([0.1478793 , 0.11324153, 0.11471659, 0.15138464])"
      ]
     },
     "execution_count": 71,
     "metadata": {},
     "output_type": "execute_result"
    }
   ],
   "source": [
    "ar[ar <= 0.5]"
   ]
  },
  {
   "cell_type": "markdown",
   "id": "ce4e18b6",
   "metadata": {},
   "source": [
    "### Manipulação de Arrays"
   ]
  },
  {
   "cell_type": "code",
   "execution_count": null,
   "id": "4292b9c9",
   "metadata": {},
   "outputs": [
    {
     "data": {
      "text/plain": [
       "array([1, 2, 3, 4])"
      ]
     },
     "execution_count": 72,
     "metadata": {},
     "output_type": "execute_result"
    }
   ],
   "source": [
    "# Transforma o ndarray em 1D\n",
    "# O flatten cria uma cópia dos dados originais\n",
    "arr = np.array([[1, 2], [3, 4]])\n",
    "arr.flatten()"
   ]
  },
  {
   "cell_type": "code",
   "execution_count": null,
   "id": "6dd1d31e",
   "metadata": {},
   "outputs": [
    {
     "data": {
      "text/plain": [
       "array([1, 2, 3, 4])"
      ]
     },
     "execution_count": 74,
     "metadata": {},
     "output_type": "execute_result"
    }
   ],
   "source": [
    "# Transforma o ndarray em 1D\n",
    "# O reshape cria uma view dos dados\n",
    "arr.reshape(-1)"
   ]
  },
  {
   "cell_type": "code",
   "execution_count": 75,
   "id": "dc5e395f",
   "metadata": {},
   "outputs": [
    {
     "data": {
      "text/plain": [
       "array([[ 0.84147098,  0.90929743],\n",
       "       [ 0.14112001, -0.7568025 ]])"
      ]
     },
     "execution_count": 75,
     "metadata": {},
     "output_type": "execute_result"
    }
   ],
   "source": [
    "np.sin(arr)"
   ]
  },
  {
   "cell_type": "code",
   "execution_count": 76,
   "id": "89e00711",
   "metadata": {},
   "outputs": [
    {
     "data": {
      "text/plain": [
       "array([[ 2.71828183,  7.3890561 ],\n",
       "       [20.08553692, 54.59815003]])"
      ]
     },
     "execution_count": 76,
     "metadata": {},
     "output_type": "execute_result"
    }
   ],
   "source": [
    "np.exp(arr)"
   ]
  },
  {
   "cell_type": "code",
   "execution_count": 77,
   "id": "41bc0dd6",
   "metadata": {},
   "outputs": [
    {
     "data": {
      "text/plain": [
       "array([[0.        , 0.69314718],\n",
       "       [1.09861229, 1.38629436]])"
      ]
     },
     "execution_count": 77,
     "metadata": {},
     "output_type": "execute_result"
    }
   ],
   "source": [
    "np.log(arr)"
   ]
  },
  {
   "cell_type": "code",
   "execution_count": 79,
   "id": "bdaa5fb5",
   "metadata": {},
   "outputs": [
    {
     "data": {
      "text/plain": [
       "array([[ 7, 10],\n",
       "       [15, 22]])"
      ]
     },
     "execution_count": 79,
     "metadata": {},
     "output_type": "execute_result"
    }
   ],
   "source": [
    "np.dot(arr, arr)"
   ]
  },
  {
   "cell_type": "markdown",
   "id": "74d5ce67",
   "metadata": {},
   "source": [
    "### Random\n",
    "No numpy, os valores randômicos são fáceis de serem utilizados, abaixo alguns exemplos"
   ]
  },
  {
   "cell_type": "code",
   "execution_count": null,
   "id": "eafa3aa1",
   "metadata": {},
   "outputs": [
    {
     "data": {
      "text/plain": [
       "array([[0.05645097, 0.66522249, 0.30518276],\n",
       "       [0.19639647, 0.56115263, 0.25373636],\n",
       "       [0.49627472, 0.90028603, 0.36767173]])"
      ]
     },
     "execution_count": 26,
     "metadata": {},
     "output_type": "execute_result"
    }
   ],
   "source": [
    "# Cria valores numéricos aleatórios dentro de uma distribuição uniforme\n",
    "np.random.rand(3, 3)"
   ]
  },
  {
   "cell_type": "code",
   "execution_count": null,
   "id": "df090579",
   "metadata": {},
   "outputs": [
    {
     "data": {
      "text/plain": [
       "7.054459437056067"
      ]
     },
     "execution_count": 42,
     "metadata": {},
     "output_type": "execute_result"
    }
   ],
   "source": [
    "# Cria um valor aleatório, porém dentro de uma distribuição normalizada\n",
    "np.random.randn()"
   ]
  },
  {
   "cell_type": "markdown",
   "id": "5dc1825d",
   "metadata": {},
   "source": [
    "### Exercícios de Numpy"
   ]
  },
  {
   "cell_type": "markdown",
   "id": "23591aa0",
   "metadata": {},
   "source": [
    "#### Ex 1\n",
    "Crie um array de 1 a 100 (incluso), e reforme ele para uma matriz de 10 x 10<br>\n",
    "Bonus: Qual é a soma de cada linha?"
   ]
  },
  {
   "cell_type": "code",
   "execution_count": 119,
   "id": "51de363c",
   "metadata": {},
   "outputs": [
    {
     "data": {
      "text/plain": [
       "array([  1,   2,   3,   4,   5,   6,   7,   8,   9,  10,  11,  12,  13,\n",
       "        14,  15,  16,  17,  18,  19,  20,  21,  22,  23,  24,  25,  26,\n",
       "        27,  28,  29,  30,  31,  32,  33,  34,  35,  36,  37,  38,  39,\n",
       "        40,  41,  42,  43,  44,  45,  46,  47,  48,  49,  50,  51,  52,\n",
       "        53,  54,  55,  56,  57,  58,  59,  60,  61,  62,  63,  64,  65,\n",
       "        66,  67,  68,  69,  70,  71,  72,  73,  74,  75,  76,  77,  78,\n",
       "        79,  80,  81,  82,  83,  84,  85,  86,  87,  88,  89,  90,  91,\n",
       "        92,  93,  94,  95,  96,  97,  98,  99, 100])"
      ]
     },
     "execution_count": 119,
     "metadata": {},
     "output_type": "execute_result"
    }
   ],
   "source": [
    "arr = np.arange(1, 101, 1)\n",
    "arr"
   ]
  },
  {
   "cell_type": "code",
   "execution_count": 120,
   "id": "a0cade30",
   "metadata": {},
   "outputs": [
    {
     "data": {
      "text/plain": [
       "np.int64(1)"
      ]
     },
     "execution_count": 120,
     "metadata": {},
     "output_type": "execute_result"
    }
   ],
   "source": [
    "arr[0]"
   ]
  },
  {
   "cell_type": "code",
   "execution_count": 121,
   "id": "24a3d49a",
   "metadata": {},
   "outputs": [
    {
     "data": {
      "text/plain": [
       "array([ 1,  2,  3,  4,  5,  6,  7,  8,  9, 10])"
      ]
     },
     "execution_count": 121,
     "metadata": {},
     "output_type": "execute_result"
    }
   ],
   "source": [
    "# Reformulando a matrix para 10x10\n",
    "arr = arr.reshape(10, 10)\n",
    "arr[0]"
   ]
  },
  {
   "cell_type": "code",
   "execution_count": 122,
   "id": "284036b8",
   "metadata": {},
   "outputs": [
    {
     "data": {
      "text/plain": [
       "array([ 55, 155, 255, 355, 455, 555, 655, 755, 855, 955])"
      ]
     },
     "execution_count": 122,
     "metadata": {},
     "output_type": "execute_result"
    }
   ],
   "source": [
    "# Somando os valores de cada linha\n",
    "# 0 soma por coluna\n",
    "arr.sum(axis=1)"
   ]
  },
  {
   "cell_type": "markdown",
   "id": "4029fa34",
   "metadata": {},
   "source": [
    "#### Ex 2\n",
    "Crie uma matriz de 5x5 com valores de 0 a 24 e extraia:\n",
    "- O elemento central\n",
    "- A primeira coluna\n",
    "- A última coluna"
   ]
  },
  {
   "cell_type": "code",
   "execution_count": 125,
   "id": "7bc345c2",
   "metadata": {},
   "outputs": [],
   "source": [
    "arr = np.arange(0, 25)\n",
    "arr = arr.reshape(5, 5)"
   ]
  },
  {
   "cell_type": "code",
   "execution_count": 126,
   "id": "3196e7f7",
   "metadata": {},
   "outputs": [
    {
     "data": {
      "text/plain": [
       "array([[ 0,  1,  2,  3,  4],\n",
       "       [ 5,  6,  7,  8,  9],\n",
       "       [10, 11, 12, 13, 14],\n",
       "       [15, 16, 17, 18, 19],\n",
       "       [20, 21, 22, 23, 24]])"
      ]
     },
     "execution_count": 126,
     "metadata": {},
     "output_type": "execute_result"
    }
   ],
   "source": [
    "arr"
   ]
  },
  {
   "cell_type": "code",
   "execution_count": 127,
   "id": "22b5c46b",
   "metadata": {},
   "outputs": [
    {
     "data": {
      "text/plain": [
       "np.int64(12)"
      ]
     },
     "execution_count": 127,
     "metadata": {},
     "output_type": "execute_result"
    }
   ],
   "source": [
    "# Elemento central\n",
    "arr[2, 2]"
   ]
  },
  {
   "cell_type": "code",
   "execution_count": null,
   "id": "414d1d50",
   "metadata": {},
   "outputs": [
    {
     "data": {
      "text/plain": [
       "array([0, 1, 2, 3, 4])"
      ]
     },
     "execution_count": 113,
     "metadata": {},
     "output_type": "execute_result"
    }
   ],
   "source": [
    "# Primeira linha\n",
    "arr[0]"
   ]
  },
  {
   "cell_type": "code",
   "execution_count": 128,
   "id": "f616f87f",
   "metadata": {},
   "outputs": [
    {
     "data": {
      "text/plain": [
       "array([ 4,  9, 14, 19, 24])"
      ]
     },
     "execution_count": 128,
     "metadata": {},
     "output_type": "execute_result"
    }
   ],
   "source": [
    "# Última coluna\n",
    "arr[:, -1]"
   ]
  },
  {
   "cell_type": "markdown",
   "id": "c3d788e4",
   "metadata": {},
   "source": [
    "#### Ex 3\n",
    "Crie uma matriz de identidade 6x6 e multiplique tudo por 7<br>\n",
    "Use np.eye() e multiplicação escalar"
   ]
  },
  {
   "cell_type": "code",
   "execution_count": 129,
   "id": "3ee7ae1c",
   "metadata": {},
   "outputs": [],
   "source": [
    "arr = np.eye(6, 6)"
   ]
  },
  {
   "cell_type": "code",
   "execution_count": 131,
   "id": "c5e23b13",
   "metadata": {},
   "outputs": [
    {
     "data": {
      "text/plain": [
       "array([[7., 0., 0., 0., 0., 0.],\n",
       "       [0., 7., 0., 0., 0., 0.],\n",
       "       [0., 0., 7., 0., 0., 0.],\n",
       "       [0., 0., 0., 7., 0., 0.],\n",
       "       [0., 0., 0., 0., 7., 0.],\n",
       "       [0., 0., 0., 0., 0., 7.]])"
      ]
     },
     "execution_count": 131,
     "metadata": {},
     "output_type": "execute_result"
    }
   ],
   "source": [
    "arr * 7"
   ]
  },
  {
   "cell_type": "markdown",
   "id": "e08f4f85",
   "metadata": {},
   "source": [
    "#### Ex 4\n",
    "Crie dois arrays randômicos de (3, 3):\n",
    "- Some eles\n",
    "- Multiplique cada elemento\n",
    "- Faça o produto"
   ]
  },
  {
   "cell_type": "code",
   "execution_count": 133,
   "id": "6c3c9bb1",
   "metadata": {},
   "outputs": [],
   "source": [
    "arr1 = np.random.rand(3, 3)\n",
    "arr2 = np.random.rand(3, 3)"
   ]
  },
  {
   "cell_type": "code",
   "execution_count": 139,
   "id": "572f7425",
   "metadata": {},
   "outputs": [
    {
     "name": "stdout",
     "output_type": "stream",
     "text": [
      "\n",
      "    Array 1: \n",
      "[[0.63856294 0.28020572 0.85374113]\n",
      " [0.84744546 0.80050501 0.49972645]\n",
      " [0.73856246 0.21221363 0.66254262]]\n",
      "\n",
      "    Array 2: \n",
      "[[0.4716879  0.52731576 0.76921693]\n",
      " [0.99712945 0.93440381 0.10838698]\n",
      " [0.42704641 0.81427699 0.63632765]]\n",
      "    \n"
     ]
    }
   ],
   "source": [
    "print(f\"\"\"\n",
    "    Array 1: \\n{arr1}\\n\n",
    "    Array 2: \\n{arr2}\n",
    "    \"\"\")"
   ]
  },
  {
   "cell_type": "code",
   "execution_count": 140,
   "id": "7f19b9b8",
   "metadata": {},
   "outputs": [
    {
     "data": {
      "text/plain": [
       "array([[1.11025084, 0.80752148, 1.62295806],\n",
       "       [1.84457491, 1.73490882, 0.60811343],\n",
       "       [1.16560887, 1.02649062, 1.29887027]])"
      ]
     },
     "execution_count": 140,
     "metadata": {},
     "output_type": "execute_result"
    }
   ],
   "source": [
    "arr1 + arr2"
   ]
  },
  {
   "cell_type": "code",
   "execution_count": 141,
   "id": "f1b7ffc5",
   "metadata": {},
   "outputs": [
    {
     "data": {
      "text/plain": [
       "array([[0.30120241, 0.14775689, 0.65671213],\n",
       "       [0.84501283, 0.74799493, 0.05416384],\n",
       "       [0.31540045, 0.17280068, 0.42159419]])"
      ]
     },
     "execution_count": 141,
     "metadata": {},
     "output_type": "execute_result"
    }
   ],
   "source": [
    "arr1 * arr2"
   ]
  },
  {
   "cell_type": "code",
   "execution_count": 142,
   "id": "c92efa59",
   "metadata": {},
   "outputs": [
    {
     "data": {
      "text/plain": [
       "array([[0.94519087, 1.29373135, 1.06482316],\n",
       "       [1.41134327, 1.60178203, 1.05662347],\n",
       "       [0.84291189, 1.12724206, 1.01271013]])"
      ]
     },
     "execution_count": 142,
     "metadata": {},
     "output_type": "execute_result"
    }
   ],
   "source": [
    "np.dot(arr1, arr2)"
   ]
  },
  {
   "cell_type": "markdown",
   "id": "f5096426",
   "metadata": {},
   "source": [
    "#### Ex 5\n",
    "Crie um array 1D com 30 valores entre 0 e 1"
   ]
  },
  {
   "cell_type": "code",
   "execution_count": 143,
   "id": "878d5d45",
   "metadata": {},
   "outputs": [],
   "source": [
    "arr = np.linspace(0, 1, 30)"
   ]
  },
  {
   "cell_type": "code",
   "execution_count": 146,
   "id": "bfa4ff00",
   "metadata": {},
   "outputs": [
    {
     "data": {
      "text/plain": [
       "array([0.        , 0.03448276, 0.06896552, 0.10344828, 0.13793103,\n",
       "       0.17241379, 0.20689655, 0.24137931, 0.27586207, 0.31034483,\n",
       "       0.34482759, 0.37931034, 0.4137931 , 0.44827586, 0.48275862,\n",
       "       0.51724138, 0.55172414, 0.5862069 , 0.62068966, 0.65517241,\n",
       "       0.68965517, 0.72413793, 0.75862069, 0.79310345, 0.82758621,\n",
       "       0.86206897, 0.89655172, 0.93103448, 0.96551724, 1.        ])"
      ]
     },
     "execution_count": 146,
     "metadata": {},
     "output_type": "execute_result"
    }
   ],
   "source": [
    "arr"
   ]
  },
  {
   "cell_type": "code",
   "execution_count": 147,
   "id": "2aa58881",
   "metadata": {},
   "outputs": [
    {
     "data": {
      "text/plain": [
       "(30,)"
      ]
     },
     "execution_count": 147,
     "metadata": {},
     "output_type": "execute_result"
    }
   ],
   "source": [
    "arr.shape"
   ]
  },
  {
   "cell_type": "markdown",
   "id": "2d42d9e7",
   "metadata": {},
   "source": [
    "#### Ex 6\n",
    "Crie uma matriz 10x10 de randômicos (0 a 1) e substitua todos os valores maiores do que 0.5 com 1 e todos os menores do que 0.5 com 0"
   ]
  },
  {
   "cell_type": "code",
   "execution_count": 150,
   "id": "2cb2ba57",
   "metadata": {},
   "outputs": [],
   "source": [
    "arr = np.random.rand(10, 10)"
   ]
  },
  {
   "cell_type": "code",
   "execution_count": 151,
   "id": "d3a35f33",
   "metadata": {},
   "outputs": [
    {
     "data": {
      "text/plain": [
       "array([[0., 0., 1., 1., 1., 1., 1., 0., 0., 1.],\n",
       "       [0., 1., 1., 1., 1., 1., 0., 0., 0., 1.],\n",
       "       [0., 1., 1., 0., 0., 0., 0., 0., 1., 1.],\n",
       "       [0., 1., 1., 1., 0., 0., 1., 0., 1., 0.],\n",
       "       [0., 1., 0., 1., 1., 0., 0., 1., 1., 0.],\n",
       "       [1., 1., 0., 1., 0., 1., 1., 1., 0., 1.],\n",
       "       [0., 1., 0., 1., 1., 0., 0., 1., 0., 1.],\n",
       "       [1., 1., 1., 1., 1., 0., 1., 1., 0., 0.],\n",
       "       [0., 0., 1., 1., 0., 1., 1., 1., 1., 0.],\n",
       "       [0., 1., 0., 1., 1., 1., 1., 1., 1., 0.]])"
      ]
     },
     "execution_count": 151,
     "metadata": {},
     "output_type": "execute_result"
    }
   ],
   "source": [
    "arr[arr > 0.5] = 1\n",
    "arr[arr <= 0.5] = 0\n",
    "arr"
   ]
  },
  {
   "cell_type": "markdown",
   "id": "ae55d231",
   "metadata": {},
   "source": [
    "#### Ex 7\n",
    "Criar uma matriz (4x4) e normalize ela (média = 0, std = 1)"
   ]
  },
  {
   "cell_type": "code",
   "execution_count": null,
   "id": "f9310cc5",
   "metadata": {},
   "outputs": [],
   "source": []
  },
  {
   "cell_type": "markdown",
   "id": "a4ac169d",
   "metadata": {},
   "source": [
    "#### Ex 8\n",
    "Faça uma matriz 2D com forma (10, 5), achate para 1D e então reformate para (10, 5)"
   ]
  },
  {
   "cell_type": "code",
   "execution_count": 152,
   "id": "40a04b2e",
   "metadata": {},
   "outputs": [],
   "source": [
    "arr = np.full((10, 5), 7)"
   ]
  },
  {
   "cell_type": "code",
   "execution_count": 154,
   "id": "a4a20b0b",
   "metadata": {},
   "outputs": [],
   "source": [
    "arr = arr.flatten()"
   ]
  },
  {
   "cell_type": "code",
   "execution_count": 156,
   "id": "8bcae6fd",
   "metadata": {},
   "outputs": [],
   "source": [
    "arr = arr.reshape(10, 5)"
   ]
  },
  {
   "cell_type": "markdown",
   "id": "c1a865dd",
   "metadata": {},
   "source": [
    "#### Ex 9\n",
    "Crie um ndarray de uma lista e depois transforme esse ndarray em lista novamente, depois crie uma ndarray zerado, exiba seu tamanho e forma."
   ]
  },
  {
   "cell_type": "code",
   "execution_count": 4,
   "id": "48d5b138",
   "metadata": {},
   "outputs": [],
   "source": [
    "lista = list([1, 2, 3])\n",
    "arr = np.array(lista)"
   ]
  },
  {
   "cell_type": "code",
   "execution_count": 6,
   "id": "e9c1250d",
   "metadata": {},
   "outputs": [
    {
     "data": {
      "text/plain": [
       "[1, 2, 3]"
      ]
     },
     "execution_count": 6,
     "metadata": {},
     "output_type": "execute_result"
    }
   ],
   "source": [
    "lista_cp = arr.tolist()\n",
    "lista_cp"
   ]
  },
  {
   "cell_type": "code",
   "execution_count": 8,
   "id": "f3f66495",
   "metadata": {},
   "outputs": [
    {
     "data": {
      "text/plain": [
       "array([[0., 0., 0., 0.],\n",
       "       [0., 0., 0., 0.],\n",
       "       [0., 0., 0., 0.]])"
      ]
     },
     "execution_count": 8,
     "metadata": {},
     "output_type": "execute_result"
    }
   ],
   "source": [
    "arr_zero = np.zeros((3, 4))\n",
    "arr_zero"
   ]
  },
  {
   "cell_type": "code",
   "execution_count": 9,
   "id": "124a0ee1",
   "metadata": {},
   "outputs": [
    {
     "data": {
      "text/plain": [
       "((3,), 3)"
      ]
     },
     "execution_count": 9,
     "metadata": {},
     "output_type": "execute_result"
    }
   ],
   "source": [
    "arr.shape, arr.size"
   ]
  },
  {
   "cell_type": "markdown",
   "id": "ec800ca9",
   "metadata": {},
   "source": [
    "#### Ex 10\n",
    "Problem: Create a 4x4 array with numbers 1 to 16. Extract the second row and the last column.\n",
    "Theory: NumPy arrays support advanced indexing and slicing, similar to Python lists but extended to multiple dimensions. This is critical for selecting specific data in ML datasets."
   ]
  },
  {
   "cell_type": "code",
   "execution_count": null,
   "id": "e25a78f3",
   "metadata": {},
   "outputs": [
    {
     "data": {
      "text/plain": [
       "array([[ 1,  2,  3,  4],\n",
       "       [ 5,  6,  7,  8],\n",
       "       [ 9, 10, 11, 12],\n",
       "       [13, 14, 15, 16]])"
      ]
     },
     "execution_count": 12,
     "metadata": {},
     "output_type": "execute_result"
    }
   ],
   "source": [
    "arr = np.arange(1, 17).reshape(4, 4)\n",
    "arr"
   ]
  },
  {
   "cell_type": "code",
   "execution_count": 15,
   "id": "4682c94a",
   "metadata": {},
   "outputs": [
    {
     "data": {
      "text/plain": [
       "(array([ 9, 10, 11, 12]), array([ 4,  8, 12, 16]))"
      ]
     },
     "execution_count": 15,
     "metadata": {},
     "output_type": "execute_result"
    }
   ],
   "source": [
    "arr[2], arr[:, -1]"
   ]
  },
  {
   "cell_type": "markdown",
   "id": "b07c3bd3",
   "metadata": {},
   "source": [
    "#### Ex 11\n",
    "Problem: Create an array with random integers between 1 and 100 (size 10). Compute its mean and standard deviation."
   ]
  },
  {
   "cell_type": "code",
   "execution_count": 18,
   "id": "de50be17",
   "metadata": {},
   "outputs": [
    {
     "data": {
      "text/plain": [
       "array([[0.39259869, 0.98954485, 0.19851481, 0.63401907, 0.79625636,\n",
       "        0.93190328, 0.41442661, 0.43374523, 0.38711875, 0.12728536],\n",
       "       [0.02370322, 0.84227378, 0.32541449, 0.3073206 , 0.18536037,\n",
       "        0.09839882, 0.37060565, 0.03982972, 0.43048399, 0.26649523],\n",
       "       [0.10815658, 0.9790545 , 0.84823307, 0.35123908, 0.15643053,\n",
       "        0.71796898, 0.91034725, 0.32671233, 0.64550332, 0.91242321],\n",
       "       [0.64818088, 0.71812715, 0.91627903, 0.18668533, 0.26510987,\n",
       "        0.60997087, 0.69186667, 0.32166732, 0.03690595, 0.28637276],\n",
       "       [0.58323584, 0.09333445, 0.05966523, 0.29981089, 0.37187424,\n",
       "        0.31505191, 0.49743923, 0.59795148, 0.96005643, 0.18893559],\n",
       "       [0.51459689, 0.48494254, 0.4678087 , 0.07986803, 0.00992536,\n",
       "        0.21822825, 0.55220261, 0.65730802, 0.13864836, 0.14754552],\n",
       "       [0.18820164, 0.7820086 , 0.7216229 , 0.55535422, 0.69368942,\n",
       "        0.85867424, 0.61947013, 0.76551678, 0.95604446, 0.90339764],\n",
       "       [0.85568754, 0.02252991, 0.78623736, 0.15640023, 0.42376804,\n",
       "        0.1790545 , 0.1467578 , 0.79933076, 0.4349969 , 0.94514285],\n",
       "       [0.53724243, 0.20749532, 0.18257881, 0.70626766, 0.79988488,\n",
       "        0.68933212, 0.78909288, 0.35213497, 0.16515036, 0.34830614],\n",
       "       [0.54870199, 0.17938597, 0.20156404, 0.18793006, 0.51956086,\n",
       "        0.42110556, 0.11695431, 0.34700125, 0.51084554, 0.45906278]])"
      ]
     },
     "execution_count": 18,
     "metadata": {},
     "output_type": "execute_result"
    }
   ],
   "source": [
    "arr = np.random.rand(1, 100).reshape(10, 10)\n",
    "arr"
   ]
  },
  {
   "cell_type": "code",
   "execution_count": 22,
   "id": "dbbf8d36",
   "metadata": {},
   "outputs": [
    {
     "data": {
      "text/plain": [
       "(np.float64(0.4613444699673534), np.float64(0.28246752882726883))"
      ]
     },
     "execution_count": 22,
     "metadata": {},
     "output_type": "execute_result"
    }
   ],
   "source": [
    "np.mean(arr), np.std(arr)"
   ]
  },
  {
   "cell_type": "markdown",
   "id": "199a73fb",
   "metadata": {},
   "source": [
    "#### Ex 12\n",
    "Problem: Create two 2x2 matrices, A = [[1, 2], [3, 4]] and B = [[5, 6], [7, 8]]. Perform matrix multiplication."
   ]
  },
  {
   "cell_type": "code",
   "execution_count": 23,
   "id": "76345716",
   "metadata": {},
   "outputs": [],
   "source": [
    "A = np.array([[1, 2], [3, 4]])\n",
    "B = np.array([[5, 6], [7, 8]])"
   ]
  },
  {
   "cell_type": "code",
   "execution_count": null,
   "id": "fad1d307",
   "metadata": {},
   "outputs": [
    {
     "data": {
      "text/plain": [
       "array([[19, 22],\n",
       "       [43, 50]])"
      ]
     },
     "execution_count": 25,
     "metadata": {},
     "output_type": "execute_result"
    }
   ],
   "source": [
    "np.dot(A, B)"
   ]
  },
  {
   "cell_type": "code",
   "execution_count": 26,
   "id": "26ae1e50",
   "metadata": {},
   "outputs": [
    {
     "data": {
      "text/plain": [
       "array([[19, 22],\n",
       "       [43, 50]])"
      ]
     },
     "execution_count": 26,
     "metadata": {},
     "output_type": "execute_result"
    }
   ],
   "source": [
    "A @ B"
   ]
  },
  {
   "cell_type": "markdown",
   "id": "df7985d7",
   "metadata": {},
   "source": [
    "#### Ex 13\n",
    "Problem: Create an array with 10 random integers between 1 and 50. Find all elements greater than 30."
   ]
  },
  {
   "cell_type": "code",
   "execution_count": 36,
   "id": "e1695694",
   "metadata": {},
   "outputs": [],
   "source": [
    "arr = np.random.randint(1, 50, size=10)"
   ]
  },
  {
   "cell_type": "code",
   "execution_count": 38,
   "id": "78644556",
   "metadata": {},
   "outputs": [
    {
     "data": {
      "text/plain": [
       "array([36, 45, 43, 34, 32])"
      ]
     },
     "execution_count": 38,
     "metadata": {},
     "output_type": "execute_result"
    }
   ],
   "source": [
    "arr[arr > 30]"
   ]
  },
  {
   "cell_type": "markdown",
   "id": "b6153519",
   "metadata": {},
   "source": [
    "#### Ex 14\n",
    "Problem: Create two 1D arrays, a = [1, 2, 3] and b = [4, 5, 6]. Concatenate them into a single array."
   ]
  },
  {
   "cell_type": "code",
   "execution_count": 40,
   "id": "d7cfac3a",
   "metadata": {},
   "outputs": [
    {
     "data": {
      "text/plain": [
       "array([1, 2, 3, 4, 5, 6])"
      ]
     },
     "execution_count": 40,
     "metadata": {},
     "output_type": "execute_result"
    }
   ],
   "source": [
    "arr1 = np.array([1, 2, 3])\n",
    "arr2 = np.array([4, 5, 6])\n",
    "\n",
    "np.concat((arr1, arr2))"
   ]
  },
  {
   "cell_type": "markdown",
   "id": "1dde1878",
   "metadata": {},
   "source": [
    "#### Ex 15\n",
    "Problem: Create a 3x3 array with random integers between 1 and 10. Normalize each row by subtracting the row mean and dividing by the row standard deviation."
   ]
  },
  {
   "cell_type": "code",
   "execution_count": 52,
   "id": "d79d2456",
   "metadata": {},
   "outputs": [],
   "source": [
    "arr = np.random.randint(1, 10, size=(3, 3))"
   ]
  },
  {
   "cell_type": "code",
   "execution_count": 54,
   "id": "0af08f46",
   "metadata": {},
   "outputs": [],
   "source": [
    "row_means = np.mean(arr, axis=1, keepdims=True)\n",
    "row_std = np.std(arr, axis=1, keepdims=True)\n",
    "\n",
    "normalized = (arr - row_means) / row_std"
   ]
  },
  {
   "cell_type": "code",
   "execution_count": 55,
   "id": "ae358883",
   "metadata": {},
   "outputs": [
    {
     "data": {
      "text/plain": [
       "array([[ 0.70710678, -1.41421356,  0.70710678],\n",
       "       [ 0.        ,  1.22474487, -1.22474487],\n",
       "       [ 0.16222142,  1.13554995, -1.29777137]])"
      ]
     },
     "execution_count": 55,
     "metadata": {},
     "output_type": "execute_result"
    }
   ],
   "source": [
    "normalized"
   ]
  },
  {
   "cell_type": "markdown",
   "id": "ead343e0",
   "metadata": {},
   "source": [
    "#### Ex 16\n",
    "Problem: Create a 5x5 array with random integers between 0 and 100. Replace all values greater than the array’s median with the array’s maximum value."
   ]
  },
  {
   "cell_type": "code",
   "execution_count": 76,
   "id": "60e29bf9",
   "metadata": {},
   "outputs": [
    {
     "data": {
      "text/plain": [
       "array([[27, 12, 26, 68, 29],\n",
       "       [85, 62, 86, 76, 69],\n",
       "       [29,  0, 51, 25, 98],\n",
       "       [78, 48, 80, 21, 26],\n",
       "       [28, 31, 42,  5,  1]])"
      ]
     },
     "execution_count": 76,
     "metadata": {},
     "output_type": "execute_result"
    }
   ],
   "source": [
    "arr = np.random.randint(0, 100, size=(5, 5))\n",
    "arr"
   ]
  },
  {
   "cell_type": "code",
   "execution_count": 78,
   "id": "bc9f8d50",
   "metadata": {},
   "outputs": [
    {
     "data": {
      "text/plain": [
       "np.float64(31.0)"
      ]
     },
     "execution_count": 78,
     "metadata": {},
     "output_type": "execute_result"
    }
   ],
   "source": [
    "np.median(arr)"
   ]
  },
  {
   "cell_type": "code",
   "execution_count": 79,
   "id": "1552b3ff",
   "metadata": {},
   "outputs": [
    {
     "data": {
      "text/plain": [
       "array([[27, 12, 26, 98, 29],\n",
       "       [98, 98, 98, 98, 98],\n",
       "       [29,  0, 98, 25, 98],\n",
       "       [98, 98, 98, 21, 26],\n",
       "       [28, 31, 98,  5,  1]])"
      ]
     },
     "execution_count": 79,
     "metadata": {},
     "output_type": "execute_result"
    }
   ],
   "source": [
    "arr[arr > np.median(arr)] = arr.max()\n",
    "arr"
   ]
  },
  {
   "cell_type": "markdown",
   "id": "4390ba97",
   "metadata": {},
   "source": [
    "#### Ex 17\n",
    "Problem: Create a 3x3 symmetric matrix (e.g., [[4, 2, 1], [2, 3, 2], [1, 2, 4]]). Compute its eigenvalues and eigenvectors."
   ]
  },
  {
   "cell_type": "code",
   "execution_count": 83,
   "id": "381bc9f5",
   "metadata": {},
   "outputs": [],
   "source": [
    "arr = np.array([[4, 2, 1], [2, 3, 2], [1, 2, 4]])\n",
    "eigenvalues, eigenvectors = np.linalg.eig(arr)"
   ]
  },
  {
   "cell_type": "code",
   "execution_count": 84,
   "id": "53cd86bb",
   "metadata": {},
   "outputs": [
    {
     "name": "stdout",
     "output_type": "stream",
     "text": [
      "Eigenvalues:  [7. 3. 1.]\n",
      "Eigenvectors: \n",
      " [[-5.77350269e-01 -7.07106781e-01  4.08248290e-01]\n",
      " [-5.77350269e-01 -4.62331560e-17 -8.16496581e-01]\n",
      " [-5.77350269e-01  7.07106781e-01  4.08248290e-01]]\n"
     ]
    }
   ],
   "source": [
    "print(\"Eigenvalues: \", eigenvalues)\n",
    "print(\"Eigenvectors: \\n\", eigenvectors)"
   ]
  },
  {
   "cell_type": "markdown",
   "id": "aa442c32",
   "metadata": {},
   "source": [
    "#### Ex 17\n",
    "Problem: Create two 3x2 arrays with random integers. Stack them horizontally to form a 3x4 array, then split the result into two 3x2 arrays again."
   ]
  },
  {
   "cell_type": "code",
   "execution_count": 86,
   "id": "a7ceda44",
   "metadata": {},
   "outputs": [],
   "source": [
    "arr1 = np.random.rand(3, 2)\n",
    "arr2 = np.random.rand(3, 2)"
   ]
  },
  {
   "cell_type": "code",
   "execution_count": 88,
   "id": "15f21cae",
   "metadata": {},
   "outputs": [
    {
     "data": {
      "text/plain": [
       "array([[0.93296198, 0.32460707, 0.53616509, 0.80207297],\n",
       "       [0.49831853, 0.96785495, 0.95608478, 0.17718263],\n",
       "       [0.57220435, 0.83947683, 0.92424945, 0.59433301]])"
      ]
     },
     "execution_count": 88,
     "metadata": {},
     "output_type": "execute_result"
    }
   ],
   "source": [
    "np.hstack((arr1, arr2))"
   ]
  },
  {
   "cell_type": "code",
   "execution_count": 90,
   "id": "41ab1123",
   "metadata": {},
   "outputs": [
    {
     "data": {
      "text/plain": [
       "[array([[0.93296198, 0.32460707],\n",
       "        [0.49831853, 0.96785495],\n",
       "        [0.57220435, 0.83947683]]),\n",
       " array([[0.53616509, 0.80207297],\n",
       "        [0.95608478, 0.17718263],\n",
       "        [0.92424945, 0.59433301]])]"
      ]
     },
     "execution_count": 90,
     "metadata": {},
     "output_type": "execute_result"
    }
   ],
   "source": [
    "np.hsplit(np.hstack((arr1, arr2)), 2)"
   ]
  },
  {
   "cell_type": "markdown",
   "id": "be21a32f",
   "metadata": {},
   "source": [
    "#### Ex 18\n",
    "Problem: Create a 4x4 array with random integers between 1 and 10. Compute the pairwise Euclidean distances between all rows without using loops."
   ]
  },
  {
   "cell_type": "code",
   "execution_count": null,
   "id": "b0fac054",
   "metadata": {},
   "outputs": [],
   "source": [
    "arr = np.random.randint(1, 10, size=(4, 4))"
   ]
  },
  {
   "cell_type": "code",
   "execution_count": 91,
   "id": "1df53b13",
   "metadata": {},
   "outputs": [],
   "source": [
    "diff = arr[:, np.newaxis, :] - arr[np.newaxis, :, :]\n",
    "distances = np.sqrt(np.sum(diff ** 2, axis=2))"
   ]
  },
  {
   "cell_type": "code",
   "execution_count": 96,
   "id": "6df97916",
   "metadata": {},
   "outputs": [
    {
     "name": "stdout",
     "output_type": "stream",
     "text": [
      "\n",
      "    Array Original: \n",
      "[[4 2 1]\n",
      " [2 3 2]\n",
      " [1 2 4]]\n",
      "\n",
      "    Distâncias: \n",
      "[[0.         2.44948974 4.24264069]\n",
      " [2.44948974 0.         2.44948974]\n",
      " [4.24264069 2.44948974 0.        ]]\n",
      "    \n"
     ]
    }
   ],
   "source": [
    "# É interessante notar que cada array interno faz o cálculo de distância Euclidiana com cada outro array interno..\n",
    "# Nota-se que os arrays internos quando calculada a distância entre ele mesmo, resulta em 0, pois os valores são iguais.\n",
    "print(f\"\"\"\n",
    "    Array Original: \\n{arr}\\n\n",
    "    Distâncias: \\n{distances}\n",
    "    \"\"\")"
   ]
  },
  {
   "cell_type": "markdown",
   "id": "eb0fc77c",
   "metadata": {},
   "source": [
    "## Estudos Mesclados\n",
    "Nessa etapa eu uso o que foi aprendido em Pandas e em Numpy para manipular dados e realizar alguns processos"
   ]
  },
  {
   "cell_type": "markdown",
   "id": "5431ee7c",
   "metadata": {},
   "source": [
    "### Ex 1\n",
    "Criar um array randômico com numpy, somar as colunas 0 e 1, colocar os valores normais em uma tabela pandas e em outra tabela, colocar os mesmos valores, porém normalizados."
   ]
  },
  {
   "cell_type": "code",
   "execution_count": 135,
   "id": "9a9549f7",
   "metadata": {},
   "outputs": [
    {
     "data": {
      "text/plain": [
       "array([[60, 37, 21, 62, 99],\n",
       "       [30, 83, 64, 70, 34],\n",
       "       [55, 45,  4, 56, 82],\n",
       "       [94, 87, 20, 62, 54],\n",
       "       [69, 36, 55, 69, 73]])"
      ]
     },
     "execution_count": 135,
     "metadata": {},
     "output_type": "execute_result"
    }
   ],
   "source": [
    "data_array = np.random.randint(1, 100, size=(5, 5))\n",
    "data_array"
   ]
  },
  {
   "cell_type": "code",
   "execution_count": 136,
   "id": "d5116d82",
   "metadata": {},
   "outputs": [],
   "source": [
    "# Soma dos valores da coluna 0 e 1\n",
    "# Deletado a coluna inútil\n",
    "data_array[:, 0] = data_array[:, 0:2].sum(axis=1)\n",
    "data_array = np.delete(data_array, 1, axis=1)"
   ]
  },
  {
   "cell_type": "code",
   "execution_count": 137,
   "id": "28a1b2a3",
   "metadata": {},
   "outputs": [],
   "source": [
    "data_pandas = pd.DataFrame(data_array)"
   ]
  },
  {
   "cell_type": "code",
   "execution_count": null,
   "id": "510ef1ed",
   "metadata": {},
   "outputs": [],
   "source": [
    "# Alterando os nomes dos indices da tabela\n",
    "data_pandas.index = ['a', 'b', 'c', 'd', 'e'] # type: ignore"
   ]
  },
  {
   "cell_type": "code",
   "execution_count": 139,
   "id": "2ba293fb",
   "metadata": {},
   "outputs": [
    {
     "data": {
      "text/html": [
       "<div>\n",
       "<style scoped>\n",
       "    .dataframe tbody tr th:only-of-type {\n",
       "        vertical-align: middle;\n",
       "    }\n",
       "\n",
       "    .dataframe tbody tr th {\n",
       "        vertical-align: top;\n",
       "    }\n",
       "\n",
       "    .dataframe thead th {\n",
       "        text-align: right;\n",
       "    }\n",
       "</style>\n",
       "<table border=\"1\" class=\"dataframe\">\n",
       "  <thead>\n",
       "    <tr style=\"text-align: right;\">\n",
       "      <th></th>\n",
       "      <th>0</th>\n",
       "      <th>1</th>\n",
       "      <th>2</th>\n",
       "      <th>3</th>\n",
       "    </tr>\n",
       "  </thead>\n",
       "  <tbody>\n",
       "    <tr>\n",
       "      <th>a</th>\n",
       "      <td>97</td>\n",
       "      <td>21</td>\n",
       "      <td>62</td>\n",
       "      <td>99</td>\n",
       "    </tr>\n",
       "    <tr>\n",
       "      <th>b</th>\n",
       "      <td>113</td>\n",
       "      <td>64</td>\n",
       "      <td>70</td>\n",
       "      <td>34</td>\n",
       "    </tr>\n",
       "    <tr>\n",
       "      <th>c</th>\n",
       "      <td>100</td>\n",
       "      <td>4</td>\n",
       "      <td>56</td>\n",
       "      <td>82</td>\n",
       "    </tr>\n",
       "    <tr>\n",
       "      <th>d</th>\n",
       "      <td>181</td>\n",
       "      <td>20</td>\n",
       "      <td>62</td>\n",
       "      <td>54</td>\n",
       "    </tr>\n",
       "    <tr>\n",
       "      <th>e</th>\n",
       "      <td>105</td>\n",
       "      <td>55</td>\n",
       "      <td>69</td>\n",
       "      <td>73</td>\n",
       "    </tr>\n",
       "  </tbody>\n",
       "</table>\n",
       "</div>"
      ],
      "text/plain": [
       "     0   1   2   3\n",
       "a   97  21  62  99\n",
       "b  113  64  70  34\n",
       "c  100   4  56  82\n",
       "d  181  20  62  54\n",
       "e  105  55  69  73"
      ]
     },
     "execution_count": 139,
     "metadata": {},
     "output_type": "execute_result"
    }
   ],
   "source": [
    "data_pandas"
   ]
  },
  {
   "cell_type": "code",
   "execution_count": null,
   "id": "cac95a24",
   "metadata": {},
   "outputs": [],
   "source": [
    "# Aplicando a normalização nos dados\n",
    "std_pandas, mean_pandas = data_pandas.std(), data_pandas.mean()\n",
    "normalized = (data_pandas - mean_pandas) / std_pandas"
   ]
  },
  {
   "cell_type": "code",
   "execution_count": 141,
   "id": "58143e93",
   "metadata": {},
   "outputs": [
    {
     "data": {
      "text/plain": [
       "0    181\n",
       "1     64\n",
       "2     70\n",
       "3     99\n",
       "dtype: int64"
      ]
     },
     "execution_count": 141,
     "metadata": {},
     "output_type": "execute_result"
    }
   ],
   "source": [
    "data_pandas.max()"
   ]
  },
  {
   "cell_type": "code",
   "execution_count": 143,
   "id": "0376c61b",
   "metadata": {},
   "outputs": [
    {
     "data": {
      "text/html": [
       "<div>\n",
       "<style scoped>\n",
       "    .dataframe tbody tr th:only-of-type {\n",
       "        vertical-align: middle;\n",
       "    }\n",
       "\n",
       "    .dataframe tbody tr th {\n",
       "        vertical-align: top;\n",
       "    }\n",
       "\n",
       "    .dataframe thead th {\n",
       "        text-align: right;\n",
       "    }\n",
       "</style>\n",
       "<table border=\"1\" class=\"dataframe\">\n",
       "  <thead>\n",
       "    <tr style=\"text-align: right;\">\n",
       "      <th></th>\n",
       "      <th>0</th>\n",
       "      <th>1</th>\n",
       "      <th>2</th>\n",
       "      <th>3</th>\n",
       "    </tr>\n",
       "  </thead>\n",
       "  <tbody>\n",
       "    <tr>\n",
       "      <th>a</th>\n",
       "      <td>97</td>\n",
       "      <td>21</td>\n",
       "      <td>62</td>\n",
       "      <td>99</td>\n",
       "    </tr>\n",
       "    <tr>\n",
       "      <th>b</th>\n",
       "      <td>113</td>\n",
       "      <td>64</td>\n",
       "      <td>70</td>\n",
       "      <td>34</td>\n",
       "    </tr>\n",
       "    <tr>\n",
       "      <th>c</th>\n",
       "      <td>100</td>\n",
       "      <td>4</td>\n",
       "      <td>56</td>\n",
       "      <td>82</td>\n",
       "    </tr>\n",
       "    <tr>\n",
       "      <th>d</th>\n",
       "      <td>181</td>\n",
       "      <td>20</td>\n",
       "      <td>62</td>\n",
       "      <td>54</td>\n",
       "    </tr>\n",
       "    <tr>\n",
       "      <th>e</th>\n",
       "      <td>105</td>\n",
       "      <td>55</td>\n",
       "      <td>69</td>\n",
       "      <td>73</td>\n",
       "    </tr>\n",
       "  </tbody>\n",
       "</table>\n",
       "</div>"
      ],
      "text/plain": [
       "     0   1   2   3\n",
       "a   97  21  62  99\n",
       "b  113  64  70  34\n",
       "c  100   4  56  82\n",
       "d  181  20  62  54\n",
       "e  105  55  69  73"
      ]
     },
     "metadata": {},
     "output_type": "display_data"
    },
    {
     "data": {
      "text/html": [
       "<div>\n",
       "<style scoped>\n",
       "    .dataframe tbody tr th:only-of-type {\n",
       "        vertical-align: middle;\n",
       "    }\n",
       "\n",
       "    .dataframe tbody tr th {\n",
       "        vertical-align: top;\n",
       "    }\n",
       "\n",
       "    .dataframe thead th {\n",
       "        text-align: right;\n",
       "    }\n",
       "</style>\n",
       "<table border=\"1\" class=\"dataframe\">\n",
       "  <thead>\n",
       "    <tr style=\"text-align: right;\">\n",
       "      <th></th>\n",
       "      <th>0</th>\n",
       "      <th>1</th>\n",
       "      <th>2</th>\n",
       "      <th>3</th>\n",
       "    </tr>\n",
       "  </thead>\n",
       "  <tbody>\n",
       "    <tr>\n",
       "      <th>a</th>\n",
       "      <td>-0.632944</td>\n",
       "      <td>-0.462941</td>\n",
       "      <td>-0.312395</td>\n",
       "      <td>1.215953</td>\n",
       "    </tr>\n",
       "    <tr>\n",
       "      <th>b</th>\n",
       "      <td>-0.176768</td>\n",
       "      <td>1.224047</td>\n",
       "      <td>1.076026</td>\n",
       "      <td>-1.366953</td>\n",
       "    </tr>\n",
       "    <tr>\n",
       "      <th>c</th>\n",
       "      <td>-0.547411</td>\n",
       "      <td>-1.129890</td>\n",
       "      <td>-1.353710</td>\n",
       "      <td>0.540423</td>\n",
       "    </tr>\n",
       "    <tr>\n",
       "      <th>d</th>\n",
       "      <td>1.761979</td>\n",
       "      <td>-0.502173</td>\n",
       "      <td>-0.312395</td>\n",
       "      <td>-0.572213</td>\n",
       "    </tr>\n",
       "    <tr>\n",
       "      <th>e</th>\n",
       "      <td>-0.404856</td>\n",
       "      <td>0.870957</td>\n",
       "      <td>0.902473</td>\n",
       "      <td>0.182790</td>\n",
       "    </tr>\n",
       "  </tbody>\n",
       "</table>\n",
       "</div>"
      ],
      "text/plain": [
       "          0         1         2         3\n",
       "a -0.632944 -0.462941 -0.312395  1.215953\n",
       "b -0.176768  1.224047  1.076026 -1.366953\n",
       "c -0.547411 -1.129890 -1.353710  0.540423\n",
       "d  1.761979 -0.502173 -0.312395 -0.572213\n",
       "e -0.404856  0.870957  0.902473  0.182790"
      ]
     },
     "metadata": {},
     "output_type": "display_data"
    }
   ],
   "source": [
    "# O ponto e vírgula corta a exibição do [none, none] no final\n",
    "display(data_pandas), display(normalized);"
   ]
  },
  {
   "cell_type": "markdown",
   "id": "c0ddb084",
   "metadata": {},
   "source": [
    "### Ex 2\n",
    "Create a NumPy array of shape (5, 3) filled with random integers from 1 to 100.\n",
    "Convert it into a Pandas DataFrame with columns: \"Math\", \"Science\", \"English\".\n",
    "Then, calculate the average score per subject."
   ]
  },
  {
   "cell_type": "code",
   "execution_count": 2,
   "id": "8ceb0b18",
   "metadata": {},
   "outputs": [
    {
     "data": {
      "text/plain": [
       "array([[37,  1, 36],\n",
       "       [43, 26, 31],\n",
       "       [90,  9, 30],\n",
       "       [49,  5, 20],\n",
       "       [ 2, 24, 70]])"
      ]
     },
     "execution_count": 2,
     "metadata": {},
     "output_type": "execute_result"
    }
   ],
   "source": [
    "arr = np.random.randint(1, 100, size=(5, 3))\n",
    "arr"
   ]
  },
  {
   "cell_type": "code",
   "execution_count": 6,
   "id": "9cc8b3aa",
   "metadata": {},
   "outputs": [],
   "source": [
    "arr_pandas = pd.DataFrame({\n",
    "    \"math\": [arr[:, 0]],\n",
    "    \"science\": [arr[:, 1]],\n",
    "    \"english\": [arr[:, 2]]\n",
    "})"
   ]
  },
  {
   "cell_type": "code",
   "execution_count": 12,
   "id": "19251c8f",
   "metadata": {},
   "outputs": [],
   "source": [
    "arr_pandas['math_mean'] = np.mean(arr_pandas['math'].to_list())\n",
    "arr_pandas['science_mean'] = np.mean(arr_pandas['science'].to_list())\n",
    "arr_pandas['english_mean'] = np.mean(arr_pandas['english'].to_list())"
   ]
  },
  {
   "cell_type": "code",
   "execution_count": 13,
   "id": "05518934",
   "metadata": {},
   "outputs": [
    {
     "data": {
      "text/html": [
       "<div>\n",
       "<style scoped>\n",
       "    .dataframe tbody tr th:only-of-type {\n",
       "        vertical-align: middle;\n",
       "    }\n",
       "\n",
       "    .dataframe tbody tr th {\n",
       "        vertical-align: top;\n",
       "    }\n",
       "\n",
       "    .dataframe thead th {\n",
       "        text-align: right;\n",
       "    }\n",
       "</style>\n",
       "<table border=\"1\" class=\"dataframe\">\n",
       "  <thead>\n",
       "    <tr style=\"text-align: right;\">\n",
       "      <th></th>\n",
       "      <th>math</th>\n",
       "      <th>science</th>\n",
       "      <th>english</th>\n",
       "      <th>math_mean</th>\n",
       "      <th>science_mean</th>\n",
       "      <th>english_mean</th>\n",
       "    </tr>\n",
       "  </thead>\n",
       "  <tbody>\n",
       "    <tr>\n",
       "      <th>0</th>\n",
       "      <td>[37, 43, 90, 49, 2]</td>\n",
       "      <td>[1, 26, 9, 5, 24]</td>\n",
       "      <td>[36, 31, 30, 20, 70]</td>\n",
       "      <td>44.2</td>\n",
       "      <td>13.0</td>\n",
       "      <td>37.4</td>\n",
       "    </tr>\n",
       "  </tbody>\n",
       "</table>\n",
       "</div>"
      ],
      "text/plain": [
       "                  math            science               english  math_mean  \\\n",
       "0  [37, 43, 90, 49, 2]  [1, 26, 9, 5, 24]  [36, 31, 30, 20, 70]       44.2   \n",
       "\n",
       "   science_mean  english_mean  \n",
       "0          13.0          37.4  "
      ]
     },
     "execution_count": 13,
     "metadata": {},
     "output_type": "execute_result"
    }
   ],
   "source": [
    "arr_pandas"
   ]
  },
  {
   "cell_type": "markdown",
   "id": "912b35a1",
   "metadata": {},
   "source": [
    "### Ex 3\n",
    "Create a DataFrame with random ages (18–60) and salaries (30k–120k) for 10 people.\n",
    "Use NumPy to generate the values\n",
    "\n",
    "Use Pandas to create and describe the DataFrame\n",
    "\n",
    "Add a new column \"Tax\" = 15% of salary."
   ]
  },
  {
   "cell_type": "code",
   "execution_count": 19,
   "id": "0297eec6",
   "metadata": {},
   "outputs": [],
   "source": [
    "arr_ages = np.random.randint(18, 60, size=10)\n",
    "arr_salaries = np.random.randint(30000, 120000, size=10)"
   ]
  },
  {
   "cell_type": "code",
   "execution_count": 21,
   "id": "5e801a9e",
   "metadata": {},
   "outputs": [],
   "source": [
    "pandas_data = pd.DataFrame({\n",
    "    \"ages\": arr_ages,\n",
    "    \"salary\": arr_salaries\n",
    "})\n",
    "pandas_data['tax'] = pandas_data[\"salary\"] * 0.15"
   ]
  },
  {
   "cell_type": "code",
   "execution_count": 22,
   "id": "9ae9f635",
   "metadata": {},
   "outputs": [
    {
     "data": {
      "text/html": [
       "<div>\n",
       "<style scoped>\n",
       "    .dataframe tbody tr th:only-of-type {\n",
       "        vertical-align: middle;\n",
       "    }\n",
       "\n",
       "    .dataframe tbody tr th {\n",
       "        vertical-align: top;\n",
       "    }\n",
       "\n",
       "    .dataframe thead th {\n",
       "        text-align: right;\n",
       "    }\n",
       "</style>\n",
       "<table border=\"1\" class=\"dataframe\">\n",
       "  <thead>\n",
       "    <tr style=\"text-align: right;\">\n",
       "      <th></th>\n",
       "      <th>ages</th>\n",
       "      <th>salary</th>\n",
       "      <th>tax</th>\n",
       "    </tr>\n",
       "  </thead>\n",
       "  <tbody>\n",
       "    <tr>\n",
       "      <th>0</th>\n",
       "      <td>32</td>\n",
       "      <td>113949</td>\n",
       "      <td>17092.35</td>\n",
       "    </tr>\n",
       "    <tr>\n",
       "      <th>1</th>\n",
       "      <td>51</td>\n",
       "      <td>43593</td>\n",
       "      <td>6538.95</td>\n",
       "    </tr>\n",
       "    <tr>\n",
       "      <th>2</th>\n",
       "      <td>36</td>\n",
       "      <td>38188</td>\n",
       "      <td>5728.20</td>\n",
       "    </tr>\n",
       "    <tr>\n",
       "      <th>3</th>\n",
       "      <td>54</td>\n",
       "      <td>112454</td>\n",
       "      <td>16868.10</td>\n",
       "    </tr>\n",
       "    <tr>\n",
       "      <th>4</th>\n",
       "      <td>51</td>\n",
       "      <td>118259</td>\n",
       "      <td>17738.85</td>\n",
       "    </tr>\n",
       "    <tr>\n",
       "      <th>5</th>\n",
       "      <td>34</td>\n",
       "      <td>118027</td>\n",
       "      <td>17704.05</td>\n",
       "    </tr>\n",
       "    <tr>\n",
       "      <th>6</th>\n",
       "      <td>26</td>\n",
       "      <td>108137</td>\n",
       "      <td>16220.55</td>\n",
       "    </tr>\n",
       "    <tr>\n",
       "      <th>7</th>\n",
       "      <td>46</td>\n",
       "      <td>57169</td>\n",
       "      <td>8575.35</td>\n",
       "    </tr>\n",
       "    <tr>\n",
       "      <th>8</th>\n",
       "      <td>20</td>\n",
       "      <td>73634</td>\n",
       "      <td>11045.10</td>\n",
       "    </tr>\n",
       "    <tr>\n",
       "      <th>9</th>\n",
       "      <td>48</td>\n",
       "      <td>103294</td>\n",
       "      <td>15494.10</td>\n",
       "    </tr>\n",
       "  </tbody>\n",
       "</table>\n",
       "</div>"
      ],
      "text/plain": [
       "   ages  salary       tax\n",
       "0    32  113949  17092.35\n",
       "1    51   43593   6538.95\n",
       "2    36   38188   5728.20\n",
       "3    54  112454  16868.10\n",
       "4    51  118259  17738.85\n",
       "5    34  118027  17704.05\n",
       "6    26  108137  16220.55\n",
       "7    46   57169   8575.35\n",
       "8    20   73634  11045.10\n",
       "9    48  103294  15494.10"
      ]
     },
     "execution_count": 22,
     "metadata": {},
     "output_type": "execute_result"
    }
   ],
   "source": [
    "pandas_data"
   ]
  },
  {
   "cell_type": "markdown",
   "id": "d53fb8ed",
   "metadata": {},
   "source": [
    "### Ex 4\n",
    "Generate a NumPy datetime range for 10 consecutive days.\n",
    "Convert it to a Pandas DatetimeIndex and set it as the index of a DataFrame containing random temperature data."
   ]
  },
  {
   "cell_type": "code",
   "execution_count": null,
   "id": "f9eb26e2",
   "metadata": {},
   "outputs": [],
   "source": [
    "# Criando um range de datas, do dia 01 ao 10\n",
    "arr_date = np.arange('2023-01-01', '2023-01-11', dtype='datetime64[D]')\n",
    "\n",
    "# Criando um array de valores entre 18 e 33\n",
    "arr_temp = np.random.randint(18, 33, size=(10))"
   ]
  },
  {
   "cell_type": "code",
   "execution_count": 11,
   "id": "045c3e66",
   "metadata": {},
   "outputs": [],
   "source": [
    "date = pd.DataFrame({\n",
    "    'data': arr_date,\n",
    "    'temperature': arr_temp\n",
    "})"
   ]
  },
  {
   "cell_type": "code",
   "execution_count": 12,
   "id": "b5d16620",
   "metadata": {},
   "outputs": [
    {
     "data": {
      "text/html": [
       "<div>\n",
       "<style scoped>\n",
       "    .dataframe tbody tr th:only-of-type {\n",
       "        vertical-align: middle;\n",
       "    }\n",
       "\n",
       "    .dataframe tbody tr th {\n",
       "        vertical-align: top;\n",
       "    }\n",
       "\n",
       "    .dataframe thead th {\n",
       "        text-align: right;\n",
       "    }\n",
       "</style>\n",
       "<table border=\"1\" class=\"dataframe\">\n",
       "  <thead>\n",
       "    <tr style=\"text-align: right;\">\n",
       "      <th></th>\n",
       "      <th>data</th>\n",
       "      <th>temperature</th>\n",
       "    </tr>\n",
       "  </thead>\n",
       "  <tbody>\n",
       "    <tr>\n",
       "      <th>0</th>\n",
       "      <td>2023-01-01</td>\n",
       "      <td>23</td>\n",
       "    </tr>\n",
       "    <tr>\n",
       "      <th>1</th>\n",
       "      <td>2023-01-02</td>\n",
       "      <td>23</td>\n",
       "    </tr>\n",
       "    <tr>\n",
       "      <th>2</th>\n",
       "      <td>2023-01-03</td>\n",
       "      <td>22</td>\n",
       "    </tr>\n",
       "    <tr>\n",
       "      <th>3</th>\n",
       "      <td>2023-01-04</td>\n",
       "      <td>18</td>\n",
       "    </tr>\n",
       "    <tr>\n",
       "      <th>4</th>\n",
       "      <td>2023-01-05</td>\n",
       "      <td>23</td>\n",
       "    </tr>\n",
       "    <tr>\n",
       "      <th>5</th>\n",
       "      <td>2023-01-06</td>\n",
       "      <td>26</td>\n",
       "    </tr>\n",
       "    <tr>\n",
       "      <th>6</th>\n",
       "      <td>2023-01-07</td>\n",
       "      <td>24</td>\n",
       "    </tr>\n",
       "    <tr>\n",
       "      <th>7</th>\n",
       "      <td>2023-01-08</td>\n",
       "      <td>19</td>\n",
       "    </tr>\n",
       "    <tr>\n",
       "      <th>8</th>\n",
       "      <td>2023-01-09</td>\n",
       "      <td>32</td>\n",
       "    </tr>\n",
       "    <tr>\n",
       "      <th>9</th>\n",
       "      <td>2023-01-10</td>\n",
       "      <td>25</td>\n",
       "    </tr>\n",
       "  </tbody>\n",
       "</table>\n",
       "</div>"
      ],
      "text/plain": [
       "        data  temperature\n",
       "0 2023-01-01           23\n",
       "1 2023-01-02           23\n",
       "2 2023-01-03           22\n",
       "3 2023-01-04           18\n",
       "4 2023-01-05           23\n",
       "5 2023-01-06           26\n",
       "6 2023-01-07           24\n",
       "7 2023-01-08           19\n",
       "8 2023-01-09           32\n",
       "9 2023-01-10           25"
      ]
     },
     "execution_count": 12,
     "metadata": {},
     "output_type": "execute_result"
    }
   ],
   "source": [
    "date"
   ]
  },
  {
   "cell_type": "markdown",
   "id": "34cbfd85",
   "metadata": {},
   "source": [
    "### Ex 5\n",
    "Using a DataFrame with random exam scores (NumPy),\n",
    "Add a column that shows whether the student passed each subject (True if score > 60, else False)."
   ]
  },
  {
   "cell_type": "code",
   "execution_count": 74,
   "id": "2f320db7",
   "metadata": {},
   "outputs": [],
   "source": [
    "arr = np.array((np.random.beta(a=8, b=3, size=10).round(4) * 100))"
   ]
  },
  {
   "cell_type": "code",
   "execution_count": null,
   "id": "9921c972",
   "metadata": {},
   "outputs": [],
   "source": [
    "data = pd.DataFrame({\n",
    "    'notas': arr,\n",
    "    'aprovado': arr > 70\n",
    "})"
   ]
  },
  {
   "cell_type": "code",
   "execution_count": 86,
   "id": "195bbdb6",
   "metadata": {},
   "outputs": [
    {
     "name": "stdout",
     "output_type": "stream",
     "text": [
      "\n",
      "    A quantidade de aprovados é 8\n",
      "    A quantidade de desaprovados é 2\n",
      "\n"
     ]
    }
   ],
   "source": [
    "print(f\"\"\"\n",
    "    A quantidade de aprovados é {data['aprovado'].loc[data['aprovado'] == True].count()}\n",
    "    A quantidade de desaprovados é {data['aprovado'].loc[data['aprovado'] == False].count()}\n",
    "\"\"\")"
   ]
  },
  {
   "cell_type": "markdown",
   "id": "90779a1a",
   "metadata": {},
   "source": [
    "### Ex 6\n",
    "Create a 5x5 NumPy array with random integers, convert it to a DataFrame.\n",
    "Label the rows as \"A\" to \"E\"\n",
    "\n",
    "Label the columns as \"V1\" to \"V5\"\n",
    "\n",
    "Calculate the mean and std deviation for each column using Pandas"
   ]
  },
  {
   "cell_type": "code",
   "execution_count": 87,
   "id": "71a47819",
   "metadata": {},
   "outputs": [],
   "source": [
    "arr = np.random.randint(1, 100, size=(5, 5))"
   ]
  },
  {
   "cell_type": "code",
   "execution_count": 91,
   "id": "d278760d",
   "metadata": {},
   "outputs": [],
   "source": [
    "data = pd.DataFrame(arr, index=['A', 'B', 'C', 'D', 'E'])"
   ]
  },
  {
   "cell_type": "code",
   "execution_count": 92,
   "id": "949b3026",
   "metadata": {},
   "outputs": [],
   "source": [
    "data.columns = ['V1', 'V2', 'V3', 'V4', 'V5']"
   ]
  },
  {
   "cell_type": "code",
   "execution_count": 95,
   "id": "be7d2ca4",
   "metadata": {},
   "outputs": [
    {
     "data": {
      "text/html": [
       "<div>\n",
       "<style scoped>\n",
       "    .dataframe tbody tr th:only-of-type {\n",
       "        vertical-align: middle;\n",
       "    }\n",
       "\n",
       "    .dataframe tbody tr th {\n",
       "        vertical-align: top;\n",
       "    }\n",
       "\n",
       "    .dataframe thead th {\n",
       "        text-align: right;\n",
       "    }\n",
       "</style>\n",
       "<table border=\"1\" class=\"dataframe\">\n",
       "  <thead>\n",
       "    <tr style=\"text-align: right;\">\n",
       "      <th></th>\n",
       "      <th>V1</th>\n",
       "      <th>V2</th>\n",
       "      <th>V3</th>\n",
       "      <th>V4</th>\n",
       "      <th>V5</th>\n",
       "    </tr>\n",
       "  </thead>\n",
       "  <tbody>\n",
       "    <tr>\n",
       "      <th>A</th>\n",
       "      <td>58</td>\n",
       "      <td>28</td>\n",
       "      <td>67</td>\n",
       "      <td>5</td>\n",
       "      <td>77</td>\n",
       "    </tr>\n",
       "    <tr>\n",
       "      <th>B</th>\n",
       "      <td>21</td>\n",
       "      <td>4</td>\n",
       "      <td>21</td>\n",
       "      <td>44</td>\n",
       "      <td>86</td>\n",
       "    </tr>\n",
       "    <tr>\n",
       "      <th>C</th>\n",
       "      <td>50</td>\n",
       "      <td>40</td>\n",
       "      <td>53</td>\n",
       "      <td>45</td>\n",
       "      <td>15</td>\n",
       "    </tr>\n",
       "    <tr>\n",
       "      <th>D</th>\n",
       "      <td>4</td>\n",
       "      <td>58</td>\n",
       "      <td>88</td>\n",
       "      <td>24</td>\n",
       "      <td>80</td>\n",
       "    </tr>\n",
       "    <tr>\n",
       "      <th>E</th>\n",
       "      <td>8</td>\n",
       "      <td>20</td>\n",
       "      <td>80</td>\n",
       "      <td>33</td>\n",
       "      <td>45</td>\n",
       "    </tr>\n",
       "  </tbody>\n",
       "</table>\n",
       "</div>"
      ],
      "text/plain": [
       "   V1  V2  V3  V4  V5\n",
       "A  58  28  67   5  77\n",
       "B  21   4  21  44  86\n",
       "C  50  40  53  45  15\n",
       "D   4  58  88  24  80\n",
       "E   8  20  80  33  45"
      ]
     },
     "execution_count": 95,
     "metadata": {},
     "output_type": "execute_result"
    }
   ],
   "source": [
    "data"
   ]
  },
  {
   "cell_type": "markdown",
   "id": "6311810d",
   "metadata": {},
   "source": [
    "### Ex 7\n",
    "Simulate sales data using NumPy:\n",
    "Create arrays for 100 product names, prices, and quantities\n",
    "\n",
    "Build a Pandas DataFrame from them\n",
    "\n",
    "Add a column for \"Total\" = Price × Quantity\n",
    "\n",
    "Filter all products where Total > 500"
   ]
  },
  {
   "cell_type": "code",
   "execution_count": 18,
   "id": "2fa0557d",
   "metadata": {},
   "outputs": [],
   "source": [
    "product_name = np.arange(1, 101)\n",
    "product_price = np.random.rand(100) * 100\n",
    "product_quantity = np.random.randint(100, 1000, size=(100))"
   ]
  },
  {
   "cell_type": "code",
   "execution_count": 19,
   "id": "ccf0f0ad",
   "metadata": {},
   "outputs": [],
   "source": [
    "data = pd.DataFrame({\n",
    "    \"name\": product_name,\n",
    "    \"price\": product_price,\n",
    "    \"quantity\": product_quantity\n",
    "})"
   ]
  },
  {
   "cell_type": "code",
   "execution_count": 21,
   "id": "08d5ef6a",
   "metadata": {},
   "outputs": [],
   "source": [
    "data['total'] = data['price'] * data['quantity']"
   ]
  },
  {
   "cell_type": "code",
   "execution_count": 22,
   "id": "48a6237a",
   "metadata": {},
   "outputs": [
    {
     "data": {
      "text/plain": [
       "np.int64(98)"
      ]
     },
     "execution_count": 22,
     "metadata": {},
     "output_type": "execute_result"
    }
   ],
   "source": [
    "data['name'].loc[data['total'] > 500].count()"
   ]
  },
  {
   "cell_type": "markdown",
   "id": "774b4f9a",
   "metadata": {},
   "source": [
    "### Ex 8\n",
    "Create a DataFrame of 20 people with random ages using NumPy.\n",
    "Then:\n",
    "\n",
    "Use .groupby() to group people by age range: <30, 30–50, >50\n",
    "\n",
    "Compute the average age and count per group"
   ]
  },
  {
   "cell_type": "code",
   "execution_count": null,
   "id": "84be83c2",
   "metadata": {},
   "outputs": [],
   "source": [
    "\n",
    "# We can use normal distribution (Gaussian) to generate the trend data.\n",
    "names = ['Alice', 'Bob', 'Charlie', 'Diana', 'Eva', 'Frank', 'George', 'Hannah']\n",
    "names = np.random.choice(names, size=100)\n",
    "arr = np.random.normal(30, 5, 100)"
   ]
  }
 ],
 "metadata": {
  "kernelspec": {
   "display_name": ".venv (3.12.3)",
   "language": "python",
   "name": "python3"
  },
  "language_info": {
   "codemirror_mode": {
    "name": "ipython",
    "version": 3
   },
   "file_extension": ".py",
   "mimetype": "text/x-python",
   "name": "python",
   "nbconvert_exporter": "python",
   "pygments_lexer": "ipython3",
   "version": "3.12.3"
  }
 },
 "nbformat": 4,
 "nbformat_minor": 5
}
